{
 "cells": [
  {
   "cell_type": "code",
   "execution_count": 48,
   "id": "adult-childhood",
   "metadata": {},
   "outputs": [],
   "source": [
    "import numpy as np\n",
    "import pandas as pd\n",
    "import seaborn as sns"
   ]
  },
  {
   "cell_type": "code",
   "execution_count": 8,
   "id": "appropriate-encyclopedia",
   "metadata": {},
   "outputs": [],
   "source": [
    "rus = np.array([70,65,58,90,45,57,50])\n",
    "math = np.array([29,20,23,22,43,35,50,])"
   ]
  },
  {
   "cell_type": "code",
   "execution_count": 24,
   "id": "sustainable-patient",
   "metadata": {},
   "outputs": [
    {
     "data": {
      "text/plain": [
       "(62.14, 31.71)"
      ]
     },
     "execution_count": 24,
     "metadata": {},
     "output_type": "execute_result"
    }
   ],
   "source": [
    "round(rus.mean(), 2), round(math.mean(), 2)"
   ]
  },
  {
   "cell_type": "code",
   "execution_count": 13,
   "id": "latin-bangkok",
   "metadata": {},
   "outputs": [
    {
     "data": {
      "text/plain": [
       "(10.61, 13.79)"
      ]
     },
     "execution_count": 13,
     "metadata": {},
     "output_type": "execute_result"
    }
   ],
   "source": [
    "# using the formula with n in the denominator\n",
    "round(math.std(), 2), round(rus.std(), 2)"
   ]
  },
  {
   "cell_type": "code",
   "execution_count": 14,
   "id": "adaptive-floating",
   "metadata": {},
   "outputs": [
    {
     "data": {
      "text/plain": [
       "(11.46, 14.89)"
      ]
     },
     "execution_count": 14,
     "metadata": {},
     "output_type": "execute_result"
    }
   ],
   "source": [
    "# using the formula with n-1 in the denominator\n",
    "round(math.std(ddof=1), 2), round(rus.std(ddof=1), 2)"
   ]
  },
  {
   "cell_type": "code",
   "execution_count": 15,
   "id": "agricultural-vinyl",
   "metadata": {},
   "outputs": [
    {
     "data": {
      "text/plain": [
       "array([[ 1.        , -0.70500792],\n",
       "       [-0.70500792,  1.        ]])"
      ]
     },
     "execution_count": 15,
     "metadata": {},
     "output_type": "execute_result"
    }
   ],
   "source": [
    "# changes with the changes in the sequence of data\n",
    "np.corrcoef(rus, math)"
   ]
  },
  {
   "cell_type": "code",
   "execution_count": 19,
   "id": "vietnamese-steal",
   "metadata": {},
   "outputs": [],
   "source": [
    "rus_updated = np.array([70,65,58,90,45,57,50,90,38])\n",
    "math_updated = np.array([29,20,23,22,43,35,50,98,28])"
   ]
  },
  {
   "cell_type": "code",
   "execution_count": 23,
   "id": "cleared-tragedy",
   "metadata": {},
   "outputs": [
    {
     "data": {
      "text/plain": [
       "(62.56, 38.67)"
      ]
     },
     "execution_count": 23,
     "metadata": {},
     "output_type": "execute_result"
    }
   ],
   "source": [
    "round(rus_updated.mean(), 2), round(math_updated.mean(), 2)"
   ]
  },
  {
   "cell_type": "code",
   "execution_count": 25,
   "id": "foster-sport",
   "metadata": {},
   "outputs": [
    {
     "data": {
      "text/plain": [
       "array([[1.        , 0.33229517],\n",
       "       [0.33229517, 1.        ]])"
      ]
     },
     "execution_count": 25,
     "metadata": {},
     "output_type": "execute_result"
    }
   ],
   "source": [
    "np.corrcoef(rus_updated, math_updated)"
   ]
  },
  {
   "cell_type": "code",
   "execution_count": 27,
   "id": "considerable-lingerie",
   "metadata": {},
   "outputs": [],
   "source": [
    "df = pd.read_csv('data/framingham.csv')"
   ]
  },
  {
   "cell_type": "code",
   "execution_count": 41,
   "id": "beginning-exemption",
   "metadata": {},
   "outputs": [
    {
     "data": {
      "text/plain": [
       "male                 0\n",
       "age                  0\n",
       "education          105\n",
       "currentSmoker        0\n",
       "cigsPerDay          29\n",
       "BPMeds              53\n",
       "prevalentStroke      0\n",
       "prevalentHyp         0\n",
       "diabetes             0\n",
       "totChol             50\n",
       "sysBP                0\n",
       "diaBP                0\n",
       "BMI                 19\n",
       "heartRate            1\n",
       "glucose            388\n",
       "TenYearCHD           0\n",
       "dtype: int64"
      ]
     },
     "execution_count": 41,
     "metadata": {},
     "output_type": "execute_result"
    }
   ],
   "source": [
    "df.isna().sum()"
   ]
  },
  {
   "cell_type": "code",
   "execution_count": 42,
   "id": "coated-original",
   "metadata": {},
   "outputs": [],
   "source": [
    "df.dropna(inplace=True)"
   ]
  },
  {
   "cell_type": "code",
   "execution_count": 44,
   "id": "intelligent-formation",
   "metadata": {},
   "outputs": [
    {
     "data": {
      "text/plain": [
       "0    3559\n",
       "1      99\n",
       "Name: diabetes, dtype: int64"
      ]
     },
     "execution_count": 44,
     "metadata": {},
     "output_type": "execute_result"
    }
   ],
   "source": [
    "df.diabetes.value_counts()"
   ]
  },
  {
   "cell_type": "code",
   "execution_count": 45,
   "id": "frank-colony",
   "metadata": {},
   "outputs": [
    {
     "data": {
      "text/plain": [
       "0    0.972936\n",
       "1    0.027064\n",
       "Name: diabetes, dtype: float64"
      ]
     },
     "execution_count": 45,
     "metadata": {},
     "output_type": "execute_result"
    }
   ],
   "source": [
    "df.diabetes.value_counts(normalize=True)"
   ]
  },
  {
   "cell_type": "code",
   "execution_count": 46,
   "id": "israeli-morris",
   "metadata": {},
   "outputs": [
    {
     "data": {
      "text/plain": [
       "diabetes  TenYearCHD\n",
       "0         0             0.853330\n",
       "          1             0.146670\n",
       "1         0             0.646465\n",
       "          1             0.353535\n",
       "Name: TenYearCHD, dtype: float64"
      ]
     },
     "execution_count": 46,
     "metadata": {},
     "output_type": "execute_result"
    }
   ],
   "source": [
    "df.groupby('diabetes')['TenYearCHD'].value_counts(normalize=True)"
   ]
  },
  {
   "cell_type": "code",
   "execution_count": 35,
   "id": "disciplinary-stationery",
   "metadata": {},
   "outputs": [
    {
     "data": {
      "text/plain": [
       "TenYearCHD  diabetes\n",
       "0           0           0.980812\n",
       "            1           0.019188\n",
       "1           0           0.937888\n",
       "            1           0.062112\n",
       "Name: diabetes, dtype: float64"
      ]
     },
     "execution_count": 35,
     "metadata": {},
     "output_type": "execute_result"
    }
   ],
   "source": [
    "df.groupby('TenYearCHD')['diabetes'].value_counts(normalize=True)"
   ]
  },
  {
   "cell_type": "code",
   "execution_count": 36,
   "id": "auburn-buffalo",
   "metadata": {},
   "outputs": [
    {
     "data": {
      "text/plain": [
       "Index(['male', 'age', 'education', 'currentSmoker', 'cigsPerDay', 'BPMeds',\n",
       "       'prevalentStroke', 'prevalentHyp', 'diabetes', 'totChol', 'sysBP',\n",
       "       'diaBP', 'BMI', 'heartRate', 'glucose', 'TenYearCHD'],\n",
       "      dtype='object')"
      ]
     },
     "execution_count": 36,
     "metadata": {},
     "output_type": "execute_result"
    }
   ],
   "source": [
    "df.columns"
   ]
  },
  {
   "cell_type": "code",
   "execution_count": 47,
   "id": "acceptable-conversation",
   "metadata": {},
   "outputs": [
    {
     "data": {
      "text/html": [
       "<div>\n",
       "<style scoped>\n",
       "    .dataframe tbody tr th:only-of-type {\n",
       "        vertical-align: middle;\n",
       "    }\n",
       "\n",
       "    .dataframe tbody tr th {\n",
       "        vertical-align: top;\n",
       "    }\n",
       "\n",
       "    .dataframe thead th {\n",
       "        text-align: right;\n",
       "    }\n",
       "</style>\n",
       "<table border=\"1\" class=\"dataframe\">\n",
       "  <thead>\n",
       "    <tr style=\"text-align: right;\">\n",
       "      <th></th>\n",
       "      <th>mean</th>\n",
       "      <th>median</th>\n",
       "    </tr>\n",
       "    <tr>\n",
       "      <th>diabetes</th>\n",
       "      <th></th>\n",
       "      <th></th>\n",
       "    </tr>\n",
       "  </thead>\n",
       "  <tbody>\n",
       "    <tr>\n",
       "      <th>0</th>\n",
       "      <td>131.992835</td>\n",
       "      <td>128.0</td>\n",
       "    </tr>\n",
       "    <tr>\n",
       "      <th>1</th>\n",
       "      <td>145.949495</td>\n",
       "      <td>142.0</td>\n",
       "    </tr>\n",
       "  </tbody>\n",
       "</table>\n",
       "</div>"
      ],
      "text/plain": [
       "                mean  median\n",
       "diabetes                    \n",
       "0         131.992835   128.0\n",
       "1         145.949495   142.0"
      ]
     },
     "execution_count": 47,
     "metadata": {},
     "output_type": "execute_result"
    }
   ],
   "source": [
    "df.groupby('diabetes')['sysBP'].agg(['mean', 'median'])"
   ]
  },
  {
   "cell_type": "code",
   "execution_count": 49,
   "id": "major-marina",
   "metadata": {},
   "outputs": [
    {
     "data": {
      "text/plain": [
       "<matplotlib.axes._subplots.AxesSubplot at 0x18e4c0418e0>"
      ]
     },
     "execution_count": 49,
     "metadata": {},
     "output_type": "execute_result"
    },
    {
     "data": {
      "image/png": "[encoded data removed]",
      "text/plain": [
       "<Figure size 432x288 with 2 Axes>"
      ]
     },
     "metadata": {
      "needs_background": "light"
     },
     "output_type": "display_data"
    }
   ],
   "source": [
    "sns.heatmap(df[df.TenYearCHD == 1].corr())"
   ]
  },
  {
   "cell_type": "code",
   "execution_count": 54,
   "id": "atlantic-taste",
   "metadata": {},
   "outputs": [
    {
     "data": {
      "text/html": [
       "<div>\n",
       "<style scoped>\n",
       "    .dataframe tbody tr th:only-of-type {\n",
       "        vertical-align: middle;\n",
       "    }\n",
       "\n",
       "    .dataframe tbody tr th {\n",
       "        vertical-align: top;\n",
       "    }\n",
       "\n",
       "    .dataframe thead th {\n",
       "        text-align: right;\n",
       "    }\n",
       "</style>\n",
       "<table border=\"1\" class=\"dataframe\">\n",
       "  <thead>\n",
       "    <tr style=\"text-align: right;\">\n",
       "      <th></th>\n",
       "      <th>male</th>\n",
       "      <th>age</th>\n",
       "      <th>education</th>\n",
       "      <th>currentSmoker</th>\n",
       "      <th>cigsPerDay</th>\n",
       "      <th>BPMeds</th>\n",
       "      <th>prevalentStroke</th>\n",
       "      <th>prevalentHyp</th>\n",
       "      <th>diabetes</th>\n",
       "      <th>totChol</th>\n",
       "      <th>sysBP</th>\n",
       "      <th>diaBP</th>\n",
       "      <th>BMI</th>\n",
       "      <th>heartRate</th>\n",
       "      <th>glucose</th>\n",
       "      <th>TenYearCHD</th>\n",
       "    </tr>\n",
       "  </thead>\n",
       "  <tbody>\n",
       "    <tr>\n",
       "      <th>male</th>\n",
       "      <td>1.0</td>\n",
       "      <td>NaN</td>\n",
       "      <td>NaN</td>\n",
       "      <td>NaN</td>\n",
       "      <td>NaN</td>\n",
       "      <td>NaN</td>\n",
       "      <td>NaN</td>\n",
       "      <td>NaN</td>\n",
       "      <td>NaN</td>\n",
       "      <td>NaN</td>\n",
       "      <td>NaN</td>\n",
       "      <td>NaN</td>\n",
       "      <td>NaN</td>\n",
       "      <td>NaN</td>\n",
       "      <td>NaN</td>\n",
       "      <td>NaN</td>\n",
       "    </tr>\n",
       "    <tr>\n",
       "      <th>age</th>\n",
       "      <td>NaN</td>\n",
       "      <td>1.0</td>\n",
       "      <td>NaN</td>\n",
       "      <td>NaN</td>\n",
       "      <td>NaN</td>\n",
       "      <td>NaN</td>\n",
       "      <td>NaN</td>\n",
       "      <td>NaN</td>\n",
       "      <td>NaN</td>\n",
       "      <td>NaN</td>\n",
       "      <td>NaN</td>\n",
       "      <td>NaN</td>\n",
       "      <td>NaN</td>\n",
       "      <td>NaN</td>\n",
       "      <td>NaN</td>\n",
       "      <td>NaN</td>\n",
       "    </tr>\n",
       "    <tr>\n",
       "      <th>education</th>\n",
       "      <td>NaN</td>\n",
       "      <td>NaN</td>\n",
       "      <td>1.0</td>\n",
       "      <td>NaN</td>\n",
       "      <td>NaN</td>\n",
       "      <td>NaN</td>\n",
       "      <td>NaN</td>\n",
       "      <td>NaN</td>\n",
       "      <td>NaN</td>\n",
       "      <td>NaN</td>\n",
       "      <td>NaN</td>\n",
       "      <td>NaN</td>\n",
       "      <td>NaN</td>\n",
       "      <td>NaN</td>\n",
       "      <td>NaN</td>\n",
       "      <td>NaN</td>\n",
       "    </tr>\n",
       "    <tr>\n",
       "      <th>currentSmoker</th>\n",
       "      <td>NaN</td>\n",
       "      <td>NaN</td>\n",
       "      <td>NaN</td>\n",
       "      <td>1.000000</td>\n",
       "      <td>0.794715</td>\n",
       "      <td>NaN</td>\n",
       "      <td>NaN</td>\n",
       "      <td>NaN</td>\n",
       "      <td>NaN</td>\n",
       "      <td>NaN</td>\n",
       "      <td>NaN</td>\n",
       "      <td>NaN</td>\n",
       "      <td>NaN</td>\n",
       "      <td>NaN</td>\n",
       "      <td>NaN</td>\n",
       "      <td>NaN</td>\n",
       "    </tr>\n",
       "    <tr>\n",
       "      <th>cigsPerDay</th>\n",
       "      <td>NaN</td>\n",
       "      <td>NaN</td>\n",
       "      <td>NaN</td>\n",
       "      <td>0.794715</td>\n",
       "      <td>1.000000</td>\n",
       "      <td>NaN</td>\n",
       "      <td>NaN</td>\n",
       "      <td>NaN</td>\n",
       "      <td>NaN</td>\n",
       "      <td>NaN</td>\n",
       "      <td>NaN</td>\n",
       "      <td>NaN</td>\n",
       "      <td>NaN</td>\n",
       "      <td>NaN</td>\n",
       "      <td>NaN</td>\n",
       "      <td>NaN</td>\n",
       "    </tr>\n",
       "    <tr>\n",
       "      <th>BPMeds</th>\n",
       "      <td>NaN</td>\n",
       "      <td>NaN</td>\n",
       "      <td>NaN</td>\n",
       "      <td>NaN</td>\n",
       "      <td>NaN</td>\n",
       "      <td>1.0</td>\n",
       "      <td>NaN</td>\n",
       "      <td>NaN</td>\n",
       "      <td>NaN</td>\n",
       "      <td>NaN</td>\n",
       "      <td>NaN</td>\n",
       "      <td>NaN</td>\n",
       "      <td>NaN</td>\n",
       "      <td>NaN</td>\n",
       "      <td>NaN</td>\n",
       "      <td>NaN</td>\n",
       "    </tr>\n",
       "    <tr>\n",
       "      <th>prevalentStroke</th>\n",
       "      <td>NaN</td>\n",
       "      <td>NaN</td>\n",
       "      <td>NaN</td>\n",
       "      <td>NaN</td>\n",
       "      <td>NaN</td>\n",
       "      <td>NaN</td>\n",
       "      <td>1.0</td>\n",
       "      <td>NaN</td>\n",
       "      <td>NaN</td>\n",
       "      <td>NaN</td>\n",
       "      <td>NaN</td>\n",
       "      <td>NaN</td>\n",
       "      <td>NaN</td>\n",
       "      <td>NaN</td>\n",
       "      <td>NaN</td>\n",
       "      <td>NaN</td>\n",
       "    </tr>\n",
       "    <tr>\n",
       "      <th>prevalentHyp</th>\n",
       "      <td>NaN</td>\n",
       "      <td>NaN</td>\n",
       "      <td>NaN</td>\n",
       "      <td>NaN</td>\n",
       "      <td>NaN</td>\n",
       "      <td>NaN</td>\n",
       "      <td>NaN</td>\n",
       "      <td>1.0</td>\n",
       "      <td>NaN</td>\n",
       "      <td>NaN</td>\n",
       "      <td>NaN</td>\n",
       "      <td>NaN</td>\n",
       "      <td>NaN</td>\n",
       "      <td>NaN</td>\n",
       "      <td>NaN</td>\n",
       "      <td>NaN</td>\n",
       "    </tr>\n",
       "    <tr>\n",
       "      <th>diabetes</th>\n",
       "      <td>NaN</td>\n",
       "      <td>NaN</td>\n",
       "      <td>NaN</td>\n",
       "      <td>NaN</td>\n",
       "      <td>NaN</td>\n",
       "      <td>NaN</td>\n",
       "      <td>NaN</td>\n",
       "      <td>NaN</td>\n",
       "      <td>1.000000</td>\n",
       "      <td>NaN</td>\n",
       "      <td>NaN</td>\n",
       "      <td>NaN</td>\n",
       "      <td>NaN</td>\n",
       "      <td>NaN</td>\n",
       "      <td>0.765148</td>\n",
       "      <td>NaN</td>\n",
       "    </tr>\n",
       "    <tr>\n",
       "      <th>totChol</th>\n",
       "      <td>NaN</td>\n",
       "      <td>NaN</td>\n",
       "      <td>NaN</td>\n",
       "      <td>NaN</td>\n",
       "      <td>NaN</td>\n",
       "      <td>NaN</td>\n",
       "      <td>NaN</td>\n",
       "      <td>NaN</td>\n",
       "      <td>NaN</td>\n",
       "      <td>1.0</td>\n",
       "      <td>NaN</td>\n",
       "      <td>NaN</td>\n",
       "      <td>NaN</td>\n",
       "      <td>NaN</td>\n",
       "      <td>NaN</td>\n",
       "      <td>NaN</td>\n",
       "    </tr>\n",
       "    <tr>\n",
       "      <th>sysBP</th>\n",
       "      <td>NaN</td>\n",
       "      <td>NaN</td>\n",
       "      <td>NaN</td>\n",
       "      <td>NaN</td>\n",
       "      <td>NaN</td>\n",
       "      <td>NaN</td>\n",
       "      <td>NaN</td>\n",
       "      <td>NaN</td>\n",
       "      <td>NaN</td>\n",
       "      <td>NaN</td>\n",
       "      <td>1.000000</td>\n",
       "      <td>0.770173</td>\n",
       "      <td>NaN</td>\n",
       "      <td>NaN</td>\n",
       "      <td>NaN</td>\n",
       "      <td>NaN</td>\n",
       "    </tr>\n",
       "    <tr>\n",
       "      <th>diaBP</th>\n",
       "      <td>NaN</td>\n",
       "      <td>NaN</td>\n",
       "      <td>NaN</td>\n",
       "      <td>NaN</td>\n",
       "      <td>NaN</td>\n",
       "      <td>NaN</td>\n",
       "      <td>NaN</td>\n",
       "      <td>NaN</td>\n",
       "      <td>NaN</td>\n",
       "      <td>NaN</td>\n",
       "      <td>0.770173</td>\n",
       "      <td>1.000000</td>\n",
       "      <td>NaN</td>\n",
       "      <td>NaN</td>\n",
       "      <td>NaN</td>\n",
       "      <td>NaN</td>\n",
       "    </tr>\n",
       "    <tr>\n",
       "      <th>BMI</th>\n",
       "      <td>NaN</td>\n",
       "      <td>NaN</td>\n",
       "      <td>NaN</td>\n",
       "      <td>NaN</td>\n",
       "      <td>NaN</td>\n",
       "      <td>NaN</td>\n",
       "      <td>NaN</td>\n",
       "      <td>NaN</td>\n",
       "      <td>NaN</td>\n",
       "      <td>NaN</td>\n",
       "      <td>NaN</td>\n",
       "      <td>NaN</td>\n",
       "      <td>1.0</td>\n",
       "      <td>NaN</td>\n",
       "      <td>NaN</td>\n",
       "      <td>NaN</td>\n",
       "    </tr>\n",
       "    <tr>\n",
       "      <th>heartRate</th>\n",
       "      <td>NaN</td>\n",
       "      <td>NaN</td>\n",
       "      <td>NaN</td>\n",
       "      <td>NaN</td>\n",
       "      <td>NaN</td>\n",
       "      <td>NaN</td>\n",
       "      <td>NaN</td>\n",
       "      <td>NaN</td>\n",
       "      <td>NaN</td>\n",
       "      <td>NaN</td>\n",
       "      <td>NaN</td>\n",
       "      <td>NaN</td>\n",
       "      <td>NaN</td>\n",
       "      <td>1.0</td>\n",
       "      <td>NaN</td>\n",
       "      <td>NaN</td>\n",
       "    </tr>\n",
       "    <tr>\n",
       "      <th>glucose</th>\n",
       "      <td>NaN</td>\n",
       "      <td>NaN</td>\n",
       "      <td>NaN</td>\n",
       "      <td>NaN</td>\n",
       "      <td>NaN</td>\n",
       "      <td>NaN</td>\n",
       "      <td>NaN</td>\n",
       "      <td>NaN</td>\n",
       "      <td>0.765148</td>\n",
       "      <td>NaN</td>\n",
       "      <td>NaN</td>\n",
       "      <td>NaN</td>\n",
       "      <td>NaN</td>\n",
       "      <td>NaN</td>\n",
       "      <td>1.000000</td>\n",
       "      <td>NaN</td>\n",
       "    </tr>\n",
       "    <tr>\n",
       "      <th>TenYearCHD</th>\n",
       "      <td>NaN</td>\n",
       "      <td>NaN</td>\n",
       "      <td>NaN</td>\n",
       "      <td>NaN</td>\n",
       "      <td>NaN</td>\n",
       "      <td>NaN</td>\n",
       "      <td>NaN</td>\n",
       "      <td>NaN</td>\n",
       "      <td>NaN</td>\n",
       "      <td>NaN</td>\n",
       "      <td>NaN</td>\n",
       "      <td>NaN</td>\n",
       "      <td>NaN</td>\n",
       "      <td>NaN</td>\n",
       "      <td>NaN</td>\n",
       "      <td>NaN</td>\n",
       "    </tr>\n",
       "  </tbody>\n",
       "</table>\n",
       "</div>"
      ],
      "text/plain": [
       "                 male  age  education  currentSmoker  cigsPerDay  BPMeds  \\\n",
       "male              1.0  NaN        NaN            NaN         NaN     NaN   \n",
       "age               NaN  1.0        NaN            NaN         NaN     NaN   \n",
       "education         NaN  NaN        1.0            NaN         NaN     NaN   \n",
       "currentSmoker     NaN  NaN        NaN       1.000000    0.794715     NaN   \n",
       "cigsPerDay        NaN  NaN        NaN       0.794715    1.000000     NaN   \n",
       "BPMeds            NaN  NaN        NaN            NaN         NaN     1.0   \n",
       "prevalentStroke   NaN  NaN        NaN            NaN         NaN     NaN   \n",
       "prevalentHyp      NaN  NaN        NaN            NaN         NaN     NaN   \n",
       "diabetes          NaN  NaN        NaN            NaN         NaN     NaN   \n",
       "totChol           NaN  NaN        NaN            NaN         NaN     NaN   \n",
       "sysBP             NaN  NaN        NaN            NaN         NaN     NaN   \n",
       "diaBP             NaN  NaN        NaN            NaN         NaN     NaN   \n",
       "BMI               NaN  NaN        NaN            NaN         NaN     NaN   \n",
       "heartRate         NaN  NaN        NaN            NaN         NaN     NaN   \n",
       "glucose           NaN  NaN        NaN            NaN         NaN     NaN   \n",
       "TenYearCHD        NaN  NaN        NaN            NaN         NaN     NaN   \n",
       "\n",
       "                 prevalentStroke  prevalentHyp  diabetes  totChol     sysBP  \\\n",
       "male                         NaN           NaN       NaN      NaN       NaN   \n",
       "age                          NaN           NaN       NaN      NaN       NaN   \n",
       "education                    NaN           NaN       NaN      NaN       NaN   \n",
       "currentSmoker                NaN           NaN       NaN      NaN       NaN   \n",
       "cigsPerDay                   NaN           NaN       NaN      NaN       NaN   \n",
       "BPMeds                       NaN           NaN       NaN      NaN       NaN   \n",
       "prevalentStroke              1.0           NaN       NaN      NaN       NaN   \n",
       "prevalentHyp                 NaN           1.0       NaN      NaN       NaN   \n",
       "diabetes                     NaN           NaN  1.000000      NaN       NaN   \n",
       "totChol                      NaN           NaN       NaN      1.0       NaN   \n",
       "sysBP                        NaN           NaN       NaN      NaN  1.000000   \n",
       "diaBP                        NaN           NaN       NaN      NaN  0.770173   \n",
       "BMI                          NaN           NaN       NaN      NaN       NaN   \n",
       "heartRate                    NaN           NaN       NaN      NaN       NaN   \n",
       "glucose                      NaN           NaN  0.765148      NaN       NaN   \n",
       "TenYearCHD                   NaN           NaN       NaN      NaN       NaN   \n",
       "\n",
       "                    diaBP  BMI  heartRate   glucose  TenYearCHD  \n",
       "male                  NaN  NaN        NaN       NaN         NaN  \n",
       "age                   NaN  NaN        NaN       NaN         NaN  \n",
       "education             NaN  NaN        NaN       NaN         NaN  \n",
       "currentSmoker         NaN  NaN        NaN       NaN         NaN  \n",
       "cigsPerDay            NaN  NaN        NaN       NaN         NaN  \n",
       "BPMeds                NaN  NaN        NaN       NaN         NaN  \n",
       "prevalentStroke       NaN  NaN        NaN       NaN         NaN  \n",
       "prevalentHyp          NaN  NaN        NaN       NaN         NaN  \n",
       "diabetes              NaN  NaN        NaN  0.765148         NaN  \n",
       "totChol               NaN  NaN        NaN       NaN         NaN  \n",
       "sysBP            0.770173  NaN        NaN       NaN         NaN  \n",
       "diaBP            1.000000  NaN        NaN       NaN         NaN  \n",
       "BMI                   NaN  1.0        NaN       NaN         NaN  \n",
       "heartRate             NaN  NaN        1.0       NaN         NaN  \n",
       "glucose               NaN  NaN        NaN  1.000000         NaN  \n",
       "TenYearCHD            NaN  NaN        NaN       NaN         NaN  "
      ]
     },
     "execution_count": 54,
     "metadata": {},
     "output_type": "execute_result"
    }
   ],
   "source": [
    "cor = df[df.TenYearCHD == 1].corr()\n",
    "cor[cor > 0.75]"
   ]
  },
  {
   "cell_type": "code",
   "execution_count": 77,
   "id": "cutting-reunion",
   "metadata": {},
   "outputs": [],
   "source": [
    "from scipy.stats import norm, t"
   ]
  },
  {
   "cell_type": "code",
   "execution_count": 62,
   "id": "graphic-record",
   "metadata": {},
   "outputs": [
    {
     "name": "stdout",
     "output_type": "stream",
     "text": [
      "(-1.9599639845400545, 1.9599639845400545)\n"
     ]
    }
   ],
   "source": [
    "# confidence 95% > 1 - alpha = 0.95 > alpha = 0.05\n",
    "alpha = 0.05\n",
    "value_left = norm.ppf(alpha/2)\n",
    "value_right = -norm.ppf(alpha/2)\n",
    "print((value_left, value_right)) # 1.96"
   ]
  },
  {
   "cell_type": "markdown",
   "id": "smooth-planner",
   "metadata": {},
   "source": [
    "### Data:    \n",
    "Была опрошена случайная выборка из 36 жителей региона об их затратах на продукты питания за последний месяц. Выборочное среднее оказалось 16 100 рублей.\n",
    "\n",
    "Допустим, известно, что стандартное отклонение расходов равно 12 000 рублей.\n",
    "\n",
    "Нам нужно найти 95 %-ный доверительный интервал для истинных средних расходов жителя данного региона на продукты питания в месяц."
   ]
  },
  {
   "cell_type": "code",
   "execution_count": 63,
   "id": "starting-apollo",
   "metadata": {},
   "outputs": [],
   "source": [
    "n = 36\n",
    "sample_mean = 16100\n",
    "sample_std = 12000\n",
    "alpha = 0.05"
   ]
  },
  {
   "cell_type": "code",
   "execution_count": 69,
   "id": "therapeutic-retro",
   "metadata": {},
   "outputs": [
    {
     "data": {
      "text/plain": [
       "(12180.0, 20020.0)"
      ]
     },
     "execution_count": 69,
     "metadata": {},
     "output_type": "execute_result"
    }
   ],
   "source": [
    "round(sample_mean + norm.ppf(alpha/2) * sample_std / np.sqrt(n), 0), \\\n",
    "round(sample_mean - norm.ppf(alpha/2) * sample_std / np.sqrt(n), 0)"
   ]
  },
  {
   "cell_type": "code",
   "execution_count": 70,
   "id": "french-forum",
   "metadata": {},
   "outputs": [
    {
     "data": {
      "text/plain": [
       "1.8119106729525978"
      ]
     },
     "execution_count": 70,
     "metadata": {},
     "output_type": "execute_result"
    }
   ],
   "source": [
    "-norm.ppf(0.07/2)"
   ]
  },
  {
   "cell_type": "markdown",
   "id": "parliamentary-vertical",
   "metadata": {},
   "source": [
    "Парфюмерная компания хочет узнать возраст женщин, которые являются их покупательницами. Ранее уже было изучено, что средний возраст был 37, а среднеквадратичное отклонение равно 3.4. Размер выборки —  200 человек. Рассчитайте 95 % доверительный интервал для среднего возраста. Запишите в ответ верхнюю границу интервала, округлите до сотых."
   ]
  },
  {
   "cell_type": "code",
   "execution_count": 71,
   "id": "voluntary-formation",
   "metadata": {},
   "outputs": [],
   "source": [
    "n = 200\n",
    "sample_mean = 37\n",
    "sample_std = 3.4\n",
    "alpha = 0.05"
   ]
  },
  {
   "cell_type": "code",
   "execution_count": 73,
   "id": "protected-specification",
   "metadata": {},
   "outputs": [
    {
     "data": {
      "text/plain": [
       "37.47"
      ]
     },
     "execution_count": 73,
     "metadata": {},
     "output_type": "execute_result"
    }
   ],
   "source": [
    "round(sample_mean - norm.ppf(alpha/2) * sample_std / np.sqrt(n), 2)"
   ]
  },
  {
   "cell_type": "markdown",
   "id": "wicked-tuner",
   "metadata": {},
   "source": [
    "Диетологи хотят узнать, сколько сладостей (в кг) потребляют жители города. По данным последнего исследования, среднее количество употребленного сладкого за месяц —  7.6 кг, среднеквадратичное отклонение 0.8. Размер выборки — 60 человек. Рассчитайте 99 % доверительный интервал для среднего количества употребленного сладкого. Запишите в ответ нижнюю границу, округлите до сотых."
   ]
  },
  {
   "cell_type": "code",
   "execution_count": 74,
   "id": "incorporate-manual",
   "metadata": {},
   "outputs": [],
   "source": [
    "n = 60\n",
    "sample_mean = 7.6\n",
    "sample_std = 0.8\n",
    "alpha = 0.01"
   ]
  },
  {
   "cell_type": "code",
   "execution_count": 75,
   "id": "opposite-complaint",
   "metadata": {},
   "outputs": [
    {
     "data": {
      "text/plain": [
       "7.33"
      ]
     },
     "execution_count": 75,
     "metadata": {},
     "output_type": "execute_result"
    }
   ],
   "source": [
    "round(sample_mean + norm.ppf(alpha/2) * sample_std / np.sqrt(n), 2)"
   ]
  },
  {
   "cell_type": "code",
   "execution_count": 78,
   "id": "great-outline",
   "metadata": {},
   "outputs": [
    {
     "name": "stdout",
     "output_type": "stream",
     "text": [
      "1.9842169515086827\n"
     ]
    }
   ],
   "source": [
    "# 0.95 - доверительный интервал, 100-1 число степеней свободы\n",
    "# для двустороннего t-теста\n",
    "value = t.ppf((1 + 0.95)/2, 100-1)\n",
    "print(value) # 1.98"
   ]
  },
  {
   "cell_type": "markdown",
   "id": "fitting-albuquerque",
   "metadata": {},
   "source": [
    "Управляющий супермаркета хочет оценить, сколько денег покупатели тратят за один поход в супермаркет в среднем. На основании ранее собранных данных известно, что расходы одного покупателя распределены приблизительно нормально. Управляющий взял случайную выборку из 15 покупателей и выяснил, что их средние расходы равны 2000 рублей, а выборочное стандартное отклонение равно 400 рублей."
   ]
  },
  {
   "cell_type": "code",
   "execution_count": 80,
   "id": "mighty-trauma",
   "metadata": {},
   "outputs": [],
   "source": [
    "from scipy.stats import norm, t\n",
    "import math\n",
    "\n",
    "def confidence_interval_norm(alpha, sigma, n, mean):\n",
    "    value = -norm.ppf(alpha / 2) * sigma / math.sqrt(n)\n",
    "    return mean - value, mean + value\n",
    "\n",
    "def confidence_interval_t(alpha, s, n, mean):\n",
    "    value = -t.ppf(alpha / 2, n - 1) * s / math.sqrt(n)\n",
    "    return mean - value, mean + value"
   ]
  },
  {
   "cell_type": "code",
   "execution_count": 84,
   "id": "verified-collection",
   "metadata": {},
   "outputs": [
    {
     "data": {
      "text/plain": [
       "((1818.092671377004, 2181.907328622996),\n",
       " (1778.4873833741433, 2221.5126166258565),\n",
       " (1692.553004440083, 2307.446995559917))"
      ]
     },
     "execution_count": 84,
     "metadata": {},
     "output_type": "execute_result"
    }
   ],
   "source": [
    "confidence_interval_t(0.1, 400, 15, 2000), \\\n",
    "confidence_interval_t(0.05, 400, 15, 2000), \\\n",
    "confidence_interval_t(0.01, 400, 15, 2000)"
   ]
  },
  {
   "cell_type": "markdown",
   "id": "interpreted-leadership",
   "metadata": {},
   "source": [
    "Чиновника интересует сумма подоходного налога, выплачиваемого домохозяйствами за год. На случайной выборке из 250 домохозяйств был посчитан средний размер выплаченного налога, и он составил 3540 dollars. Также на основании ранее предоставленных данных из налоговой инспекции известно истинное стандартное отклонение величины подоходного налога, равное 1150 dollars.\n",
    "\n",
    "→ Необходимо найти 99 % доверительный интервал для истинного среднего значения налоговых выплат за год."
   ]
  },
  {
   "cell_type": "code",
   "execution_count": 85,
   "id": "standard-psychiatry",
   "metadata": {},
   "outputs": [
    {
     "data": {
      "text/plain": [
       "(3352.6537883505453, 3727.3462116494547)"
      ]
     },
     "execution_count": 85,
     "metadata": {},
     "output_type": "execute_result"
    }
   ],
   "source": [
    "confidence_interval_norm(0.01, 1150, 250, 3540)"
   ]
  },
  {
   "cell_type": "code",
   "execution_count": 102,
   "id": "secret-radical",
   "metadata": {},
   "outputs": [],
   "source": [
    "def confidence_interval_prop(alpha, prop, n):\n",
    "    value = -norm.ppf(alpha / 2) * math.sqrt( prop * (1 - prop) / n)\n",
    "    return prop - value, prop + value"
   ]
  },
  {
   "cell_type": "code",
   "execution_count": 103,
   "id": "suitable-enforcement",
   "metadata": {},
   "outputs": [
    {
     "data": {
      "text/plain": [
       "(0.5929104009443911, 0.707089599055609)"
      ]
     },
     "execution_count": 103,
     "metadata": {},
     "output_type": "execute_result"
    }
   ],
   "source": [
    "confidence_interval_prop(0.005, 0.65, 550)"
   ]
  },
  {
   "cell_type": "markdown",
   "id": "arctic-ordering",
   "metadata": {},
   "source": [
    "Чтобы оценить удовлетворенность клиентов сети отелей, менеджер взял случайную выборку из 189 комментариев, оставленных посетителями на онлайн-платформе по бронированию, и провел анализ их содержания. Выяснилось, что 132 комментария были положительными, остальные — негативными."
   ]
  },
  {
   "cell_type": "code",
   "execution_count": 106,
   "id": "guided-nickel",
   "metadata": {},
   "outputs": [
    {
     "data": {
      "text/plain": [
       "0.698"
      ]
     },
     "execution_count": 106,
     "metadata": {},
     "output_type": "execute_result"
    }
   ],
   "source": [
    "prop = round(132/189, 3)\n",
    "prop"
   ]
  },
  {
   "cell_type": "code",
   "execution_count": 107,
   "id": "former-grace",
   "metadata": {},
   "outputs": [
    {
     "data": {
      "text/plain": [
       "(0.6430677310768528, 0.7529322689231471)"
      ]
     },
     "execution_count": 107,
     "metadata": {},
     "output_type": "execute_result"
    }
   ],
   "source": [
    "confidence_interval_prop(0.1, prop, 189)"
   ]
  },
  {
   "cell_type": "code",
   "execution_count": null,
   "id": "anticipated-casting",
   "metadata": {},
   "outputs": [],
   "source": []
  }
 ],
 "metadata": {
  "kernelspec": {
   "display_name": "Python 3",
   "language": "python",
   "name": "python3"
  },
  "language_info": {
   "codemirror_mode": {
    "name": "ipython",
    "version": 3
   },
   "file_extension": ".py",
   "mimetype": "text/x-python",
   "name": "python",
   "nbconvert_exporter": "python",
   "pygments_lexer": "ipython3",
   "version": "3.8.5"
  }
 },
 "nbformat": 4,
 "nbformat_minor": 5
}

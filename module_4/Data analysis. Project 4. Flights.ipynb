{
 "cells": [
  {
   "cell_type": "code",
   "execution_count": 539,
   "id": "rocky-london",
   "metadata": {},
   "outputs": [],
   "source": [
    "import numpy as np\n",
    "import pandas as pd\n",
    "import matplotlib.pyplot as plt\n",
    "import seaborn as sns\n",
    "sns.set()\n",
    "\n",
    "import plotly.graph_objects as go"
   ]
  },
  {
   "cell_type": "code",
   "execution_count": 708,
   "id": "moved-associate",
   "metadata": {},
   "outputs": [
    {
     "data": {
      "text/plain": [
       "array(['Moscow', 'Novokuznetsk', 'Belgorod'], dtype=object)"
      ]
     },
     "execution_count": 708,
     "metadata": {},
     "output_type": "execute_result"
    }
   ],
   "source": [
    "df.city.unique()"
   ]
  },
  {
   "cell_type": "code",
   "execution_count": 707,
   "id": "strategic-pasta",
   "metadata": {},
   "outputs": [],
   "source": [
    "df = pd.read_csv('query_result_2021-06-11T18_18_08.33847Z.csv')\n",
    "# remove the flights where no tickets were solved\n",
    "# df.dropna(inplace=True)"
   ]
  },
  {
   "cell_type": "code",
   "execution_count": 472,
   "id": "outer-arabic",
   "metadata": {},
   "outputs": [],
   "source": [
    "df.actual_arrival = pd.to_datetime(df.actual_arrival)\n",
    "df.actual_departure = pd.to_datetime(df.actual_departure)"
   ]
  },
  {
   "cell_type": "code",
   "execution_count": 473,
   "id": "editorial-interim",
   "metadata": {},
   "outputs": [],
   "source": [
    "df['flight_duration'] = (df.actual_arrival - df.actual_departure).apply(lambda x: x.total_seconds() / 60 ** 2)"
   ]
  },
  {
   "cell_type": "markdown",
   "id": "transparent-protection",
   "metadata": {},
   "source": [
    "Данные о цене топлива по месяцам взяты на сайте [ФЕДЕРАЛЬНОЕ АГЕНТСТВО ВОЗДУШНОГО ТРАНСПОРТА](https://favt.gov.ru/dejatelnost-ajeroporty-i-ajerodromy-ceny-na-aviagsm/?id=7329)."
   ]
  },
  {
   "cell_type": "code",
   "execution_count": 474,
   "id": "latin-harvey",
   "metadata": {},
   "outputs": [],
   "source": [
    "fuel_kg_per_hour = {\n",
    "    'Boeing 737-300': 2400,\n",
    "    'Sukhoi Superjet-100': 1700\n",
    "}\n",
    "fuel_price_per_month_Anapa = {\n",
    "    1: 41.435,\n",
    "    2: 39.553,\n",
    "    12: 47.101\n",
    "}\n",
    "# НДС - 18% в 2017 году\n",
    "df['fuel_kg_per_hour'] = df.model.map(fuel_kg_per_hour)\n",
    "df['fuel_spent'] = df.flight_duration * df.fuel_kg_per_hour\n",
    "df['fuel_price_per_month_Anapa'] = df.actual_arrival.dt.month.map(fuel_price_per_month_Anapa)\n",
    "df['fuel_cost'] = df.fuel_spent * (df.fuel_price_per_month_Anapa * 1.18)"
   ]
  },
  {
   "cell_type": "markdown",
   "id": "talented-browser",
   "metadata": {},
   "source": [
    "Составим сравнительную таблицу по перелетам в двух направлениях."
   ]
  },
  {
   "cell_type": "code",
   "execution_count": 530,
   "id": "blessed-military",
   "metadata": {},
   "outputs": [
    {
     "data": {
      "text/html": [
       "<div>\n",
       "<style scoped>\n",
       "    .dataframe tbody tr th:only-of-type {\n",
       "        vertical-align: middle;\n",
       "    }\n",
       "\n",
       "    .dataframe tbody tr th {\n",
       "        vertical-align: top;\n",
       "    }\n",
       "\n",
       "    .dataframe thead th {\n",
       "        text-align: right;\n",
       "    }\n",
       "</style>\n",
       "<table border=\"1\" class=\"dataframe\">\n",
       "  <thead>\n",
       "    <tr style=\"text-align: right;\">\n",
       "      <th></th>\n",
       "      <th>city</th>\n",
       "      <th>model</th>\n",
       "      <th>flight_id</th>\n",
       "      <th>flight_duration</th>\n",
       "      <th>seats_count_mean</th>\n",
       "      <th>profit</th>\n",
       "      <th>flight_occupancy</th>\n",
       "    </tr>\n",
       "  </thead>\n",
       "  <tbody>\n",
       "    <tr>\n",
       "      <th>0</th>\n",
       "      <td>Belgorod</td>\n",
       "      <td>Sukhoi Superjet-100</td>\n",
       "      <td>59</td>\n",
       "      <td>0.834746</td>\n",
       "      <td>97</td>\n",
       "      <td>642547</td>\n",
       "      <td>0.929757</td>\n",
       "    </tr>\n",
       "    <tr>\n",
       "      <th>1</th>\n",
       "      <td>Moscow</td>\n",
       "      <td>Boeing 737-300</td>\n",
       "      <td>59</td>\n",
       "      <td>1.663842</td>\n",
       "      <td>130</td>\n",
       "      <td>1451548</td>\n",
       "      <td>0.870143</td>\n",
       "    </tr>\n",
       "  </tbody>\n",
       "</table>\n",
       "</div>"
      ],
      "text/plain": [
       "       city                model  flight_id  flight_duration  \\\n",
       "0  Belgorod  Sukhoi Superjet-100         59         0.834746   \n",
       "1    Moscow       Boeing 737-300         59         1.663842   \n",
       "\n",
       "   seats_count_mean   profit  flight_occupancy  \n",
       "0                97   642547          0.929757  \n",
       "1               130  1451548          0.870143  "
      ]
     },
     "execution_count": 530,
     "metadata": {},
     "output_type": "execute_result"
    }
   ],
   "source": [
    "grouped_by_city = data_for_analysis.groupby(['city', 'model'], as_index=False).agg(\n",
    "    {\n",
    "        'flight_id': 'count',\n",
    "        'flight_duration': 'mean',\n",
    "        'seats_count_mean': 'mean',\n",
    "        'profit': 'mean',\n",
    "        'flight_occupancy': 'mean'\n",
    "    })\n",
    "grouped_by_city.profit = grouped_by_city.profit.astype('int64') \n",
    "grouped_by_city"
   ]
  },
  {
   "cell_type": "code",
   "execution_count": 560,
   "id": "corrected-description",
   "metadata": {},
   "outputs": [],
   "source": [
    "data = df.groupby(['flight_id', 'city', 'city.1', 'model'], as_index=False).agg({\n",
    "                                   'longitude': 'mean', \n",
    "                                   'latitude': 'mean', \n",
    "                                   'longitude.1': 'mean',\n",
    "                                   'latitude.1': 'mean',\n",
    "                                   'flight_duration': 'mean'\n",
    "})"
   ]
  },
  {
   "cell_type": "code",
   "execution_count": 578,
   "id": "minute-dispute",
   "metadata": {},
   "outputs": [
    {
     "data": {
      "application/vnd.plotly.v1+json": {
       "config": {
        "plotlyServerURL": "https://plot.ly"
       },
       "data": [
        {
         "lat": [
          45.00210189819301
         ],
         "lon": [
          37.34730148315394
         ],
         "mode": "text",
         "showlegend": false,
         "text": "Anapa",
         "type": "scattergeo"
        },
        {
         "lat": [
          55.972598999999946
         ],
         "lon": [
          37.41460000000004
         ],
         "mode": "text",
         "showlegend": false,
         "text": "Moscow",
         "type": "scattergeo"
        },
        {
         "lat": [
          45.00210189819301,
          55.972598999999946
         ],
         "line": {
          "color": "orange",
          "width": 2
         },
         "lon": [
          37.34730148315394,
          37.41460000000004
         ],
         "mode": "lines",
         "name": "Аnapa - Moscow (1.7 ч)",
         "opacity": 0.5,
         "type": "scattergeo"
        },
        {
         "lat": [
          50.643798828125
         ],
         "lon": [
          36.5900993347168
         ],
         "mode": "text",
         "showlegend": false,
         "text": "Belgorod",
         "type": "scattergeo"
        },
        {
         "lat": [
          45.00210189819295,
          50.643798828125
         ],
         "line": {
          "color": "purple",
          "width": 2
         },
         "lon": [
          37.34730148315395,
          36.5900993347168
         ],
         "mode": "lines",
         "name": "Аnapa - Belgorod (0.8 ч)",
         "opacity": 0.5,
         "type": "scattergeo"
        }
       ],
       "layout": {
        "geo": {
         "countrycolor": "rgb(204, 204, 204)",
         "lakecolor": "lightblue",
         "landcolor": "rgb(243, 243, 243)",
         "lataxis": {
          "showgrid": true
         },
         "lonaxis": {
          "showgrid": true
         },
         "projection": {
          "type": "natural earth"
         },
         "rivercolor": "lightblue",
         "scope": "europe",
         "showcountries": true,
         "showlakes": true,
         "showland": true,
         "showrivers": true
        },
        "height": 500,
        "margin": {
         "b": 0,
         "l": 0,
         "r": 0,
         "t": 50
        },
        "showlegend": true,
        "template": {
         "data": {
          "bar": [
           {
            "error_x": {
             "color": "#2a3f5f"
            },
            "error_y": {
             "color": "#2a3f5f"
            },
            "marker": {
             "line": {
              "color": "#E5ECF6",
              "width": 0.5
             }
            },
            "type": "bar"
           }
          ],
          "barpolar": [
           {
            "marker": {
             "line": {
              "color": "#E5ECF6",
              "width": 0.5
             }
            },
            "type": "barpolar"
           }
          ],
          "carpet": [
           {
            "aaxis": {
             "endlinecolor": "#2a3f5f",
             "gridcolor": "white",
             "linecolor": "white",
             "minorgridcolor": "white",
             "startlinecolor": "#2a3f5f"
            },
            "baxis": {
             "endlinecolor": "#2a3f5f",
             "gridcolor": "white",
             "linecolor": "white",
             "minorgridcolor": "white",
             "startlinecolor": "#2a3f5f"
            },
            "type": "carpet"
           }
          ],
          "choropleth": [
           {
            "colorbar": {
             "outlinewidth": 0,
             "ticks": ""
            },
            "type": "choropleth"
           }
          ],
          "contour": [
           {
            "colorbar": {
             "outlinewidth": 0,
             "ticks": ""
            },
            "colorscale": [
             [
              0,
              "#0d0887"
             ],
             [
              0.1111111111111111,
              "#46039f"
             ],
             [
              0.2222222222222222,
              "#7201a8"
             ],
             [
              0.3333333333333333,
              "#9c179e"
             ],
             [
              0.4444444444444444,
              "#bd3786"
             ],
             [
              0.5555555555555556,
              "#d8576b"
             ],
             [
              0.6666666666666666,
              "#ed7953"
             ],
             [
              0.7777777777777778,
              "#fb9f3a"
             ],
             [
              0.8888888888888888,
              "#fdca26"
             ],
             [
              1,
              "#f0f921"
             ]
            ],
            "type": "contour"
           }
          ],
          "contourcarpet": [
           {
            "colorbar": {
             "outlinewidth": 0,
             "ticks": ""
            },
            "type": "contourcarpet"
           }
          ],
          "heatmap": [
           {
            "colorbar": {
             "outlinewidth": 0,
             "ticks": ""
            },
            "colorscale": [
             [
              0,
              "#0d0887"
             ],
             [
              0.1111111111111111,
              "#46039f"
             ],
             [
              0.2222222222222222,
              "#7201a8"
             ],
             [
              0.3333333333333333,
              "#9c179e"
             ],
             [
              0.4444444444444444,
              "#bd3786"
             ],
             [
              0.5555555555555556,
              "#d8576b"
             ],
             [
              0.6666666666666666,
              "#ed7953"
             ],
             [
              0.7777777777777778,
              "#fb9f3a"
             ],
             [
              0.8888888888888888,
              "#fdca26"
             ],
             [
              1,
              "#f0f921"
             ]
            ],
            "type": "heatmap"
           }
          ],
          "heatmapgl": [
           {
            "colorbar": {
             "outlinewidth": 0,
             "ticks": ""
            },
            "colorscale": [
             [
              0,
              "#0d0887"
             ],
             [
              0.1111111111111111,
              "#46039f"
             ],
             [
              0.2222222222222222,
              "#7201a8"
             ],
             [
              0.3333333333333333,
              "#9c179e"
             ],
             [
              0.4444444444444444,
              "#bd3786"
             ],
             [
              0.5555555555555556,
              "#d8576b"
             ],
             [
              0.6666666666666666,
              "#ed7953"
             ],
             [
              0.7777777777777778,
              "#fb9f3a"
             ],
             [
              0.8888888888888888,
              "#fdca26"
             ],
             [
              1,
              "#f0f921"
             ]
            ],
            "type": "heatmapgl"
           }
          ],
          "histogram": [
           {
            "marker": {
             "colorbar": {
              "outlinewidth": 0,
              "ticks": ""
             }
            },
            "type": "histogram"
           }
          ],
          "histogram2d": [
           {
            "colorbar": {
             "outlinewidth": 0,
             "ticks": ""
            },
            "colorscale": [
             [
              0,
              "#0d0887"
             ],
             [
              0.1111111111111111,
              "#46039f"
             ],
             [
              0.2222222222222222,
              "#7201a8"
             ],
             [
              0.3333333333333333,
              "#9c179e"
             ],
             [
              0.4444444444444444,
              "#bd3786"
             ],
             [
              0.5555555555555556,
              "#d8576b"
             ],
             [
              0.6666666666666666,
              "#ed7953"
             ],
             [
              0.7777777777777778,
              "#fb9f3a"
             ],
             [
              0.8888888888888888,
              "#fdca26"
             ],
             [
              1,
              "#f0f921"
             ]
            ],
            "type": "histogram2d"
           }
          ],
          "histogram2dcontour": [
           {
            "colorbar": {
             "outlinewidth": 0,
             "ticks": ""
            },
            "colorscale": [
             [
              0,
              "#0d0887"
             ],
             [
              0.1111111111111111,
              "#46039f"
             ],
             [
              0.2222222222222222,
              "#7201a8"
             ],
             [
              0.3333333333333333,
              "#9c179e"
             ],
             [
              0.4444444444444444,
              "#bd3786"
             ],
             [
              0.5555555555555556,
              "#d8576b"
             ],
             [
              0.6666666666666666,
              "#ed7953"
             ],
             [
              0.7777777777777778,
              "#fb9f3a"
             ],
             [
              0.8888888888888888,
              "#fdca26"
             ],
             [
              1,
              "#f0f921"
             ]
            ],
            "type": "histogram2dcontour"
           }
          ],
          "mesh3d": [
           {
            "colorbar": {
             "outlinewidth": 0,
             "ticks": ""
            },
            "type": "mesh3d"
           }
          ],
          "parcoords": [
           {
            "line": {
             "colorbar": {
              "outlinewidth": 0,
              "ticks": ""
             }
            },
            "type": "parcoords"
           }
          ],
          "pie": [
           {
            "automargin": true,
            "type": "pie"
           }
          ],
          "scatter": [
           {
            "marker": {
             "colorbar": {
              "outlinewidth": 0,
              "ticks": ""
             }
            },
            "type": "scatter"
           }
          ],
          "scatter3d": [
           {
            "line": {
             "colorbar": {
              "outlinewidth": 0,
              "ticks": ""
             }
            },
            "marker": {
             "colorbar": {
              "outlinewidth": 0,
              "ticks": ""
             }
            },
            "type": "scatter3d"
           }
          ],
          "scattercarpet": [
           {
            "marker": {
             "colorbar": {
              "outlinewidth": 0,
              "ticks": ""
             }
            },
            "type": "scattercarpet"
           }
          ],
          "scattergeo": [
           {
            "marker": {
             "colorbar": {
              "outlinewidth": 0,
              "ticks": ""
             }
            },
            "type": "scattergeo"
           }
          ],
          "scattergl": [
           {
            "marker": {
             "colorbar": {
              "outlinewidth": 0,
              "ticks": ""
             }
            },
            "type": "scattergl"
           }
          ],
          "scattermapbox": [
           {
            "marker": {
             "colorbar": {
              "outlinewidth": 0,
              "ticks": ""
             }
            },
            "type": "scattermapbox"
           }
          ],
          "scatterpolar": [
           {
            "marker": {
             "colorbar": {
              "outlinewidth": 0,
              "ticks": ""
             }
            },
            "type": "scatterpolar"
           }
          ],
          "scatterpolargl": [
           {
            "marker": {
             "colorbar": {
              "outlinewidth": 0,
              "ticks": ""
             }
            },
            "type": "scatterpolargl"
           }
          ],
          "scatterternary": [
           {
            "marker": {
             "colorbar": {
              "outlinewidth": 0,
              "ticks": ""
             }
            },
            "type": "scatterternary"
           }
          ],
          "surface": [
           {
            "colorbar": {
             "outlinewidth": 0,
             "ticks": ""
            },
            "colorscale": [
             [
              0,
              "#0d0887"
             ],
             [
              0.1111111111111111,
              "#46039f"
             ],
             [
              0.2222222222222222,
              "#7201a8"
             ],
             [
              0.3333333333333333,
              "#9c179e"
             ],
             [
              0.4444444444444444,
              "#bd3786"
             ],
             [
              0.5555555555555556,
              "#d8576b"
             ],
             [
              0.6666666666666666,
              "#ed7953"
             ],
             [
              0.7777777777777778,
              "#fb9f3a"
             ],
             [
              0.8888888888888888,
              "#fdca26"
             ],
             [
              1,
              "#f0f921"
             ]
            ],
            "type": "surface"
           }
          ],
          "table": [
           {
            "cells": {
             "fill": {
              "color": "#EBF0F8"
             },
             "line": {
              "color": "white"
             }
            },
            "header": {
             "fill": {
              "color": "#C8D4E3"
             },
             "line": {
              "color": "white"
             }
            },
            "type": "table"
           }
          ]
         },
         "layout": {
          "annotationdefaults": {
           "arrowcolor": "#2a3f5f",
           "arrowhead": 0,
           "arrowwidth": 1
          },
          "autotypenumbers": "strict",
          "coloraxis": {
           "colorbar": {
            "outlinewidth": 0,
            "ticks": ""
           }
          },
          "colorscale": {
           "diverging": [
            [
             0,
             "#8e0152"
            ],
            [
             0.1,
             "#c51b7d"
            ],
            [
             0.2,
             "#de77ae"
            ],
            [
             0.3,
             "#f1b6da"
            ],
            [
             0.4,
             "#fde0ef"
            ],
            [
             0.5,
             "#f7f7f7"
            ],
            [
             0.6,
             "#e6f5d0"
            ],
            [
             0.7,
             "#b8e186"
            ],
            [
             0.8,
             "#7fbc41"
            ],
            [
             0.9,
             "#4d9221"
            ],
            [
             1,
             "#276419"
            ]
           ],
           "sequential": [
            [
             0,
             "#0d0887"
            ],
            [
             0.1111111111111111,
             "#46039f"
            ],
            [
             0.2222222222222222,
             "#7201a8"
            ],
            [
             0.3333333333333333,
             "#9c179e"
            ],
            [
             0.4444444444444444,
             "#bd3786"
            ],
            [
             0.5555555555555556,
             "#d8576b"
            ],
            [
             0.6666666666666666,
             "#ed7953"
            ],
            [
             0.7777777777777778,
             "#fb9f3a"
            ],
            [
             0.8888888888888888,
             "#fdca26"
            ],
            [
             1,
             "#f0f921"
            ]
           ],
           "sequentialminus": [
            [
             0,
             "#0d0887"
            ],
            [
             0.1111111111111111,
             "#46039f"
            ],
            [
             0.2222222222222222,
             "#7201a8"
            ],
            [
             0.3333333333333333,
             "#9c179e"
            ],
            [
             0.4444444444444444,
             "#bd3786"
            ],
            [
             0.5555555555555556,
             "#d8576b"
            ],
            [
             0.6666666666666666,
             "#ed7953"
            ],
            [
             0.7777777777777778,
             "#fb9f3a"
            ],
            [
             0.8888888888888888,
             "#fdca26"
            ],
            [
             1,
             "#f0f921"
            ]
           ]
          },
          "colorway": [
           "#636efa",
           "#EF553B",
           "#00cc96",
           "#ab63fa",
           "#FFA15A",
           "#19d3f3",
           "#FF6692",
           "#B6E880",
           "#FF97FF",
           "#FECB52"
          ],
          "font": {
           "color": "#2a3f5f"
          },
          "geo": {
           "bgcolor": "white",
           "lakecolor": "white",
           "landcolor": "#E5ECF6",
           "showlakes": true,
           "showland": true,
           "subunitcolor": "white"
          },
          "hoverlabel": {
           "align": "left"
          },
          "hovermode": "closest",
          "mapbox": {
           "style": "light"
          },
          "paper_bgcolor": "white",
          "plot_bgcolor": "#E5ECF6",
          "polar": {
           "angularaxis": {
            "gridcolor": "white",
            "linecolor": "white",
            "ticks": ""
           },
           "bgcolor": "#E5ECF6",
           "radialaxis": {
            "gridcolor": "white",
            "linecolor": "white",
            "ticks": ""
           }
          },
          "scene": {
           "xaxis": {
            "backgroundcolor": "#E5ECF6",
            "gridcolor": "white",
            "gridwidth": 2,
            "linecolor": "white",
            "showbackground": true,
            "ticks": "",
            "zerolinecolor": "white"
           },
           "yaxis": {
            "backgroundcolor": "#E5ECF6",
            "gridcolor": "white",
            "gridwidth": 2,
            "linecolor": "white",
            "showbackground": true,
            "ticks": "",
            "zerolinecolor": "white"
           },
           "zaxis": {
            "backgroundcolor": "#E5ECF6",
            "gridcolor": "white",
            "gridwidth": 2,
            "linecolor": "white",
            "showbackground": true,
            "ticks": "",
            "zerolinecolor": "white"
           }
          },
          "shapedefaults": {
           "line": {
            "color": "#2a3f5f"
           }
          },
          "ternary": {
           "aaxis": {
            "gridcolor": "white",
            "linecolor": "white",
            "ticks": ""
           },
           "baxis": {
            "gridcolor": "white",
            "linecolor": "white",
            "ticks": ""
           },
           "bgcolor": "#E5ECF6",
           "caxis": {
            "gridcolor": "white",
            "linecolor": "white",
            "ticks": ""
           }
          },
          "title": {
           "x": 0.05
          },
          "xaxis": {
           "automargin": true,
           "gridcolor": "white",
           "linecolor": "white",
           "ticks": "",
           "title": {
            "standoff": 15
           },
           "zerolinecolor": "white",
           "zerolinewidth": 2
          },
          "yaxis": {
           "automargin": true,
           "gridcolor": "white",
           "linecolor": "white",
           "ticks": "",
           "title": {
            "standoff": 15
           },
           "zerolinecolor": "white",
           "zerolinewidth": 2
          }
         }
        },
        "title": {
         "font": {
          "size": 16
         },
         "text": "Карта полетов из Анапы за зимний период 2017 года",
         "x": 0.5,
         "xanchor": "center",
         "y": 0.92,
         "yanchor": "top"
        }
       }
      },
      "text/html": [
       "<div>                            <div id=\"c5b3db68-dfe0-407f-941f-b0f36cda0c9a\" class=\"plotly-graph-div\" style=\"height:500px; width:100%;\"></div>            <script type=\"text/javascript\">                require([\"plotly\"], function(Plotly) {                    window.PLOTLYENV=window.PLOTLYENV || {};                                    if (document.getElementById(\"c5b3db68-dfe0-407f-941f-b0f36cda0c9a\")) {                    Plotly.newPlot(                        \"c5b3db68-dfe0-407f-941f-b0f36cda0c9a\",                        [{\"lat\": [45.00210189819301], \"lon\": [37.34730148315394], \"mode\": \"text\", \"showlegend\": false, \"text\": \"Anapa\", \"type\": \"scattergeo\"}, {\"lat\": [55.972598999999946], \"lon\": [37.41460000000004], \"mode\": \"text\", \"showlegend\": false, \"text\": \"Moscow\", \"type\": \"scattergeo\"}, {\"lat\": [45.00210189819301, 55.972598999999946], \"line\": {\"color\": \"orange\", \"width\": 2}, \"lon\": [37.34730148315394, 37.41460000000004], \"mode\": \"lines\", \"name\": \"\\u0410napa - Moscow (1.7 \\u0447)\", \"opacity\": 0.5, \"type\": \"scattergeo\"}, {\"lat\": [50.643798828125], \"lon\": [36.5900993347168], \"mode\": \"text\", \"showlegend\": false, \"text\": \"Belgorod\", \"type\": \"scattergeo\"}, {\"lat\": [45.00210189819295, 50.643798828125], \"line\": {\"color\": \"purple\", \"width\": 2}, \"lon\": [37.34730148315395, 36.5900993347168], \"mode\": \"lines\", \"name\": \"\\u0410napa - Belgorod (0.8 \\u0447)\", \"opacity\": 0.5, \"type\": \"scattergeo\"}],                        {\"geo\": {\"countrycolor\": \"rgb(204, 204, 204)\", \"lakecolor\": \"lightblue\", \"landcolor\": \"rgb(243, 243, 243)\", \"lataxis\": {\"showgrid\": true}, \"lonaxis\": {\"showgrid\": true}, \"projection\": {\"type\": \"natural earth\"}, \"rivercolor\": \"lightblue\", \"scope\": \"europe\", \"showcountries\": true, \"showlakes\": true, \"showland\": true, \"showrivers\": true}, \"height\": 500, \"margin\": {\"b\": 0, \"l\": 0, \"r\": 0, \"t\": 50}, \"showlegend\": true, \"template\": {\"data\": {\"bar\": [{\"error_x\": {\"color\": \"#2a3f5f\"}, \"error_y\": {\"color\": \"#2a3f5f\"}, \"marker\": {\"line\": {\"color\": \"#E5ECF6\", \"width\": 0.5}}, \"type\": \"bar\"}], \"barpolar\": [{\"marker\": {\"line\": {\"color\": \"#E5ECF6\", \"width\": 0.5}}, \"type\": \"barpolar\"}], \"carpet\": [{\"aaxis\": {\"endlinecolor\": \"#2a3f5f\", \"gridcolor\": \"white\", \"linecolor\": \"white\", \"minorgridcolor\": \"white\", \"startlinecolor\": \"#2a3f5f\"}, \"baxis\": {\"endlinecolor\": \"#2a3f5f\", \"gridcolor\": \"white\", \"linecolor\": \"white\", \"minorgridcolor\": \"white\", \"startlinecolor\": \"#2a3f5f\"}, \"type\": \"carpet\"}], \"choropleth\": [{\"colorbar\": {\"outlinewidth\": 0, \"ticks\": \"\"}, \"type\": \"choropleth\"}], \"contour\": [{\"colorbar\": {\"outlinewidth\": 0, \"ticks\": \"\"}, \"colorscale\": [[0.0, \"#0d0887\"], [0.1111111111111111, \"#46039f\"], [0.2222222222222222, \"#7201a8\"], [0.3333333333333333, \"#9c179e\"], [0.4444444444444444, \"#bd3786\"], [0.5555555555555556, \"#d8576b\"], [0.6666666666666666, \"#ed7953\"], [0.7777777777777778, \"#fb9f3a\"], [0.8888888888888888, \"#fdca26\"], [1.0, \"#f0f921\"]], \"type\": \"contour\"}], \"contourcarpet\": [{\"colorbar\": {\"outlinewidth\": 0, \"ticks\": \"\"}, \"type\": \"contourcarpet\"}], \"heatmap\": [{\"colorbar\": {\"outlinewidth\": 0, \"ticks\": \"\"}, \"colorscale\": [[0.0, \"#0d0887\"], [0.1111111111111111, \"#46039f\"], [0.2222222222222222, \"#7201a8\"], [0.3333333333333333, \"#9c179e\"], [0.4444444444444444, \"#bd3786\"], [0.5555555555555556, \"#d8576b\"], [0.6666666666666666, \"#ed7953\"], [0.7777777777777778, \"#fb9f3a\"], [0.8888888888888888, \"#fdca26\"], [1.0, \"#f0f921\"]], \"type\": \"heatmap\"}], \"heatmapgl\": [{\"colorbar\": {\"outlinewidth\": 0, \"ticks\": \"\"}, \"colorscale\": [[0.0, \"#0d0887\"], [0.1111111111111111, \"#46039f\"], [0.2222222222222222, \"#7201a8\"], [0.3333333333333333, \"#9c179e\"], [0.4444444444444444, \"#bd3786\"], [0.5555555555555556, \"#d8576b\"], [0.6666666666666666, \"#ed7953\"], [0.7777777777777778, \"#fb9f3a\"], [0.8888888888888888, \"#fdca26\"], [1.0, \"#f0f921\"]], \"type\": \"heatmapgl\"}], \"histogram\": [{\"marker\": {\"colorbar\": {\"outlinewidth\": 0, \"ticks\": \"\"}}, \"type\": \"histogram\"}], \"histogram2d\": [{\"colorbar\": {\"outlinewidth\": 0, \"ticks\": \"\"}, \"colorscale\": [[0.0, \"#0d0887\"], [0.1111111111111111, \"#46039f\"], [0.2222222222222222, \"#7201a8\"], [0.3333333333333333, \"#9c179e\"], [0.4444444444444444, \"#bd3786\"], [0.5555555555555556, \"#d8576b\"], [0.6666666666666666, \"#ed7953\"], [0.7777777777777778, \"#fb9f3a\"], [0.8888888888888888, \"#fdca26\"], [1.0, \"#f0f921\"]], \"type\": \"histogram2d\"}], \"histogram2dcontour\": [{\"colorbar\": {\"outlinewidth\": 0, \"ticks\": \"\"}, \"colorscale\": [[0.0, \"#0d0887\"], [0.1111111111111111, \"#46039f\"], [0.2222222222222222, \"#7201a8\"], [0.3333333333333333, \"#9c179e\"], [0.4444444444444444, \"#bd3786\"], [0.5555555555555556, \"#d8576b\"], [0.6666666666666666, \"#ed7953\"], [0.7777777777777778, \"#fb9f3a\"], [0.8888888888888888, \"#fdca26\"], [1.0, \"#f0f921\"]], \"type\": \"histogram2dcontour\"}], \"mesh3d\": [{\"colorbar\": {\"outlinewidth\": 0, \"ticks\": \"\"}, \"type\": \"mesh3d\"}], \"parcoords\": [{\"line\": {\"colorbar\": {\"outlinewidth\": 0, \"ticks\": \"\"}}, \"type\": \"parcoords\"}], \"pie\": [{\"automargin\": true, \"type\": \"pie\"}], \"scatter\": [{\"marker\": {\"colorbar\": {\"outlinewidth\": 0, \"ticks\": \"\"}}, \"type\": \"scatter\"}], \"scatter3d\": [{\"line\": {\"colorbar\": {\"outlinewidth\": 0, \"ticks\": \"\"}}, \"marker\": {\"colorbar\": {\"outlinewidth\": 0, \"ticks\": \"\"}}, \"type\": \"scatter3d\"}], \"scattercarpet\": [{\"marker\": {\"colorbar\": {\"outlinewidth\": 0, \"ticks\": \"\"}}, \"type\": \"scattercarpet\"}], \"scattergeo\": [{\"marker\": {\"colorbar\": {\"outlinewidth\": 0, \"ticks\": \"\"}}, \"type\": \"scattergeo\"}], \"scattergl\": [{\"marker\": {\"colorbar\": {\"outlinewidth\": 0, \"ticks\": \"\"}}, \"type\": \"scattergl\"}], \"scattermapbox\": [{\"marker\": {\"colorbar\": {\"outlinewidth\": 0, \"ticks\": \"\"}}, \"type\": \"scattermapbox\"}], \"scatterpolar\": [{\"marker\": {\"colorbar\": {\"outlinewidth\": 0, \"ticks\": \"\"}}, \"type\": \"scatterpolar\"}], \"scatterpolargl\": [{\"marker\": {\"colorbar\": {\"outlinewidth\": 0, \"ticks\": \"\"}}, \"type\": \"scatterpolargl\"}], \"scatterternary\": [{\"marker\": {\"colorbar\": {\"outlinewidth\": 0, \"ticks\": \"\"}}, \"type\": \"scatterternary\"}], \"surface\": [{\"colorbar\": {\"outlinewidth\": 0, \"ticks\": \"\"}, \"colorscale\": [[0.0, \"#0d0887\"], [0.1111111111111111, \"#46039f\"], [0.2222222222222222, \"#7201a8\"], [0.3333333333333333, \"#9c179e\"], [0.4444444444444444, \"#bd3786\"], [0.5555555555555556, \"#d8576b\"], [0.6666666666666666, \"#ed7953\"], [0.7777777777777778, \"#fb9f3a\"], [0.8888888888888888, \"#fdca26\"], [1.0, \"#f0f921\"]], \"type\": \"surface\"}], \"table\": [{\"cells\": {\"fill\": {\"color\": \"#EBF0F8\"}, \"line\": {\"color\": \"white\"}}, \"header\": {\"fill\": {\"color\": \"#C8D4E3\"}, \"line\": {\"color\": \"white\"}}, \"type\": \"table\"}]}, \"layout\": {\"annotationdefaults\": {\"arrowcolor\": \"#2a3f5f\", \"arrowhead\": 0, \"arrowwidth\": 1}, \"autotypenumbers\": \"strict\", \"coloraxis\": {\"colorbar\": {\"outlinewidth\": 0, \"ticks\": \"\"}}, \"colorscale\": {\"diverging\": [[0, \"#8e0152\"], [0.1, \"#c51b7d\"], [0.2, \"#de77ae\"], [0.3, \"#f1b6da\"], [0.4, \"#fde0ef\"], [0.5, \"#f7f7f7\"], [0.6, \"#e6f5d0\"], [0.7, \"#b8e186\"], [0.8, \"#7fbc41\"], [0.9, \"#4d9221\"], [1, \"#276419\"]], \"sequential\": [[0.0, \"#0d0887\"], [0.1111111111111111, \"#46039f\"], [0.2222222222222222, \"#7201a8\"], [0.3333333333333333, \"#9c179e\"], [0.4444444444444444, \"#bd3786\"], [0.5555555555555556, \"#d8576b\"], [0.6666666666666666, \"#ed7953\"], [0.7777777777777778, \"#fb9f3a\"], [0.8888888888888888, \"#fdca26\"], [1.0, \"#f0f921\"]], \"sequentialminus\": [[0.0, \"#0d0887\"], [0.1111111111111111, \"#46039f\"], [0.2222222222222222, \"#7201a8\"], [0.3333333333333333, \"#9c179e\"], [0.4444444444444444, \"#bd3786\"], [0.5555555555555556, \"#d8576b\"], [0.6666666666666666, \"#ed7953\"], [0.7777777777777778, \"#fb9f3a\"], [0.8888888888888888, \"#fdca26\"], [1.0, \"#f0f921\"]]}, \"colorway\": [\"#636efa\", \"#EF553B\", \"#00cc96\", \"#ab63fa\", \"#FFA15A\", \"#19d3f3\", \"#FF6692\", \"#B6E880\", \"#FF97FF\", \"#FECB52\"], \"font\": {\"color\": \"#2a3f5f\"}, \"geo\": {\"bgcolor\": \"white\", \"lakecolor\": \"white\", \"landcolor\": \"#E5ECF6\", \"showlakes\": true, \"showland\": true, \"subunitcolor\": \"white\"}, \"hoverlabel\": {\"align\": \"left\"}, \"hovermode\": \"closest\", \"mapbox\": {\"style\": \"light\"}, \"paper_bgcolor\": \"white\", \"plot_bgcolor\": \"#E5ECF6\", \"polar\": {\"angularaxis\": {\"gridcolor\": \"white\", \"linecolor\": \"white\", \"ticks\": \"\"}, \"bgcolor\": \"#E5ECF6\", \"radialaxis\": {\"gridcolor\": \"white\", \"linecolor\": \"white\", \"ticks\": \"\"}}, \"scene\": {\"xaxis\": {\"backgroundcolor\": \"#E5ECF6\", \"gridcolor\": \"white\", \"gridwidth\": 2, \"linecolor\": \"white\", \"showbackground\": true, \"ticks\": \"\", \"zerolinecolor\": \"white\"}, \"yaxis\": {\"backgroundcolor\": \"#E5ECF6\", \"gridcolor\": \"white\", \"gridwidth\": 2, \"linecolor\": \"white\", \"showbackground\": true, \"ticks\": \"\", \"zerolinecolor\": \"white\"}, \"zaxis\": {\"backgroundcolor\": \"#E5ECF6\", \"gridcolor\": \"white\", \"gridwidth\": 2, \"linecolor\": \"white\", \"showbackground\": true, \"ticks\": \"\", \"zerolinecolor\": \"white\"}}, \"shapedefaults\": {\"line\": {\"color\": \"#2a3f5f\"}}, \"ternary\": {\"aaxis\": {\"gridcolor\": \"white\", \"linecolor\": \"white\", \"ticks\": \"\"}, \"baxis\": {\"gridcolor\": \"white\", \"linecolor\": \"white\", \"ticks\": \"\"}, \"bgcolor\": \"#E5ECF6\", \"caxis\": {\"gridcolor\": \"white\", \"linecolor\": \"white\", \"ticks\": \"\"}}, \"title\": {\"x\": 0.05}, \"xaxis\": {\"automargin\": true, \"gridcolor\": \"white\", \"linecolor\": \"white\", \"ticks\": \"\", \"title\": {\"standoff\": 15}, \"zerolinecolor\": \"white\", \"zerolinewidth\": 2}, \"yaxis\": {\"automargin\": true, \"gridcolor\": \"white\", \"linecolor\": \"white\", \"ticks\": \"\", \"title\": {\"standoff\": 15}, \"zerolinecolor\": \"white\", \"zerolinewidth\": 2}}}, \"title\": {\"font\": {\"size\": 16}, \"text\": \"\\u041a\\u0430\\u0440\\u0442\\u0430 \\u043f\\u043e\\u043b\\u0435\\u0442\\u043e\\u0432 \\u0438\\u0437 \\u0410\\u043d\\u0430\\u043f\\u044b \\u0437\\u0430 \\u0437\\u0438\\u043c\\u043d\\u0438\\u0439 \\u043f\\u0435\\u0440\\u0438\\u043e\\u0434 2017 \\u0433\\u043e\\u0434\\u0430\", \"x\": 0.5, \"xanchor\": \"center\", \"y\": 0.92, \"yanchor\": \"top\"}},                        {\"responsive\": true}                    ).then(function(){\n",
       "                            \n",
       "var gd = document.getElementById('c5b3db68-dfe0-407f-941f-b0f36cda0c9a');\n",
       "var x = new MutationObserver(function (mutations, observer) {{\n",
       "        var display = window.getComputedStyle(gd).display;\n",
       "        if (!display || display === 'none') {{\n",
       "            console.log([gd, 'removed!']);\n",
       "            Plotly.purge(gd);\n",
       "            observer.disconnect();\n",
       "        }}\n",
       "}});\n",
       "\n",
       "// Listen for the removal of the full notebook cells\n",
       "var notebookContainer = gd.closest('#notebook-container');\n",
       "if (notebookContainer) {{\n",
       "    x.observe(notebookContainer, {childList: true});\n",
       "}}\n",
       "\n",
       "// Listen for the clearing of the current output cell\n",
       "var outputEl = gd.closest('.output');\n",
       "if (outputEl) {{\n",
       "    x.observe(outputEl, {childList: true});\n",
       "}}\n",
       "\n",
       "                        })                };                });            </script>        </div>"
      ]
     },
     "metadata": {},
     "output_type": "display_data"
    }
   ],
   "source": [
    "fig = go.Figure()\n",
    "\n",
    "fig.add_trace(\n",
    "    go.Scattergeo(\n",
    "        lat = [data['latitude.1'][0]],\n",
    "        lon = [data['longitude.1'][0]],\n",
    "        mode = \"text\",\n",
    "        text=f\"{data['city.1'][0]}\",\n",
    "        showlegend=False\n",
    "    )\n",
    ")\n",
    "\n",
    "colors=['orange', 'purple']\n",
    "\n",
    "for city in data.city.unique():\n",
    "    fig.add_trace(\n",
    "        go.Scattergeo(\n",
    "            lat = [data.loc[data.city == city, 'latitude'].values[0]],\n",
    "            lon = [data.loc[data.city == city, 'longitude'].values[0]],\n",
    "            mode = \"text\",\n",
    "            text=city,\n",
    "            showlegend=False,  \n",
    "        )\n",
    "    )\n",
    "\n",
    "    opacity = data.loc[data.city == city, :].shape[0] / data.shape[0]\n",
    "    if city == 'Moscow':\n",
    "        col = colors[0]\n",
    "    else:\n",
    "        col = colors[1]\n",
    "    fig.add_trace(\n",
    "        go.Scattergeo(\n",
    "            lat = [data.loc[data.city == city, 'latitude.1'].values[0], data.loc[data.city == city, 'latitude'].values[0]],\n",
    "            lon = [data.loc[data.city == city, 'longitude.1'].values[0], data.loc[data.city == city, 'longitude'].values[0]],\n",
    "            mode = \"lines\",\n",
    "            opacity=opacity,\n",
    "            line = dict(width = 2, color=col),\n",
    "            name=f\"Аnapa - {city} ({round(data.loc[data.city == city, 'flight_duration'].mean(), 1)} ч)\"\n",
    "        )\n",
    "    )\n",
    "\n",
    "fig.update_layout(\n",
    "    showlegend = True,\n",
    "    geo = go.layout.Geo(\n",
    "        scope = 'europe',\n",
    "        projection_type = 'natural earth',\n",
    "        showland = True,\n",
    "        showcountries=True,\n",
    "        showrivers=True,\n",
    "        showlakes=True,\n",
    "        lakecolor='lightblue',\n",
    "        rivercolor='lightblue',\n",
    "        landcolor = 'rgb(243, 243, 243)',\n",
    "        countrycolor = 'rgb(204, 204, 204)',\n",
    "    ),\n",
    "    title=dict(\n",
    "            text=\"Карта полетов из Анапы за зимний период 2017 года\",\n",
    "            font=dict(\n",
    "                size=16,\n",
    "            ),\n",
    "            y=0.92,\n",
    "            x=0.5,\n",
    "            xanchor='center',\n",
    "            yanchor='top'\n",
    "        ),\n",
    ")\n",
    "fig.update_geos(lataxis_showgrid=True, lonaxis_showgrid=True)\n",
    "fig.update_layout(height=500, margin={\"r\":0,\"t\":50,\"l\":0,\"b\":0})\n",
    "fig.show()"
   ]
  },
  {
   "cell_type": "markdown",
   "id": "institutional-minnesota",
   "metadata": {},
   "source": [
    "Сгрупируем данные для последующего анализа."
   ]
  },
  {
   "cell_type": "code",
   "execution_count": 478,
   "id": "mechanical-inspection",
   "metadata": {},
   "outputs": [],
   "source": [
    "data_for_analysis = df.groupby(\n",
    "    ['flight_id', 'city', 'city.1', 'longitude', 'latitude', 'longitude.1', 'latitude.1', 'flight_duration', 'model',\n",
    "    'fuel_cost'],\n",
    "    as_index=False)\\\n",
    ".agg({'amount':['sum', 'count'], 'seats_count': 'mean'})"
   ]
  },
  {
   "cell_type": "code",
   "execution_count": 479,
   "id": "molecular-throat",
   "metadata": {},
   "outputs": [],
   "source": [
    "data_for_analysis.columns = list(map('_'.join, data_for_analysis.columns.values))\n",
    "data_for_analysis.columns = [col[:-1] if col[-1] == '_' else col for col in data_for_analysis.columns.values]"
   ]
  },
  {
   "cell_type": "markdown",
   "id": "written-gardening",
   "metadata": {},
   "source": [
    "Найдем заполняемость самолета и прибыль от полета как разницу между суммой денег от продажи билетов и стоимостью расхода топлива (кг) за час."
   ]
  },
  {
   "cell_type": "code",
   "execution_count": 480,
   "id": "legitimate-advance",
   "metadata": {},
   "outputs": [],
   "source": [
    "data_for_analysis['flight_occupancy'] = data_for_analysis.amount_count / data_for_analysis.seats_count_mean\n",
    "data_for_analysis['profit'] = data_for_analysis.amount_sum - data_for_analysis.fuel_cost\n",
    "data_for_analysis.profit = data_for_analysis.profit.astype('int64') \n",
    "data_for_analysis.sort_values('profit', inplace=True)"
   ]
  },
  {
   "cell_type": "code",
   "execution_count": 592,
   "id": "thick-shark",
   "metadata": {},
   "outputs": [
    {
     "data": {
      "text/html": [
       "<div>\n",
       "<style scoped>\n",
       "    .dataframe tbody tr th:only-of-type {\n",
       "        vertical-align: middle;\n",
       "    }\n",
       "\n",
       "    .dataframe tbody tr th {\n",
       "        vertical-align: top;\n",
       "    }\n",
       "\n",
       "    .dataframe thead th {\n",
       "        text-align: right;\n",
       "    }\n",
       "</style>\n",
       "<table border=\"1\" class=\"dataframe\">\n",
       "  <thead>\n",
       "    <tr style=\"text-align: right;\">\n",
       "      <th></th>\n",
       "      <th>flight_id</th>\n",
       "      <th>city</th>\n",
       "      <th>city.1</th>\n",
       "      <th>longitude</th>\n",
       "      <th>latitude</th>\n",
       "      <th>longitude.1</th>\n",
       "      <th>latitude.1</th>\n",
       "      <th>flight_duration</th>\n",
       "      <th>model</th>\n",
       "      <th>fuel_cost</th>\n",
       "      <th>amount_sum</th>\n",
       "      <th>amount_count</th>\n",
       "      <th>seats_count_mean</th>\n",
       "      <th>flight_occupancy</th>\n",
       "      <th>profit</th>\n",
       "    </tr>\n",
       "  </thead>\n",
       "  <tbody>\n",
       "    <tr>\n",
       "      <th>68</th>\n",
       "      <td>136642</td>\n",
       "      <td>Belgorod</td>\n",
       "      <td>Anapa</td>\n",
       "      <td>36.590099</td>\n",
       "      <td>50.643799</td>\n",
       "      <td>37.347301</td>\n",
       "      <td>45.002102</td>\n",
       "      <td>0.816667</td>\n",
       "      <td>Sukhoi Superjet-100</td>\n",
       "      <td>67880.198167</td>\n",
       "      <td>531000.0</td>\n",
       "      <td>64</td>\n",
       "      <td>97</td>\n",
       "      <td>0.659794</td>\n",
       "      <td>463119</td>\n",
       "    </tr>\n",
       "    <tr>\n",
       "      <th>93</th>\n",
       "      <td>136807</td>\n",
       "      <td>Belgorod</td>\n",
       "      <td>Anapa</td>\n",
       "      <td>36.590099</td>\n",
       "      <td>50.643799</td>\n",
       "      <td>37.347301</td>\n",
       "      <td>45.002102</td>\n",
       "      <td>0.833333</td>\n",
       "      <td>Sukhoi Superjet-100</td>\n",
       "      <td>66119.431667</td>\n",
       "      <td>531000.0</td>\n",
       "      <td>68</td>\n",
       "      <td>97</td>\n",
       "      <td>0.701031</td>\n",
       "      <td>464880</td>\n",
       "    </tr>\n",
       "    <tr>\n",
       "      <th>100</th>\n",
       "      <td>136844</td>\n",
       "      <td>Belgorod</td>\n",
       "      <td>Anapa</td>\n",
       "      <td>36.590099</td>\n",
       "      <td>50.643799</td>\n",
       "      <td>37.347301</td>\n",
       "      <td>45.002102</td>\n",
       "      <td>0.833333</td>\n",
       "      <td>Sukhoi Superjet-100</td>\n",
       "      <td>66119.431667</td>\n",
       "      <td>575100.0</td>\n",
       "      <td>79</td>\n",
       "      <td>97</td>\n",
       "      <td>0.814433</td>\n",
       "      <td>508980</td>\n",
       "    </tr>\n",
       "    <tr>\n",
       "      <th>107</th>\n",
       "      <td>136887</td>\n",
       "      <td>Belgorod</td>\n",
       "      <td>Anapa</td>\n",
       "      <td>36.590099</td>\n",
       "      <td>50.643799</td>\n",
       "      <td>37.347301</td>\n",
       "      <td>45.002102</td>\n",
       "      <td>0.816667</td>\n",
       "      <td>Sukhoi Superjet-100</td>\n",
       "      <td>67880.198167</td>\n",
       "      <td>595200.0</td>\n",
       "      <td>78</td>\n",
       "      <td>97</td>\n",
       "      <td>0.804124</td>\n",
       "      <td>527319</td>\n",
       "    </tr>\n",
       "    <tr>\n",
       "      <th>111</th>\n",
       "      <td>136922</td>\n",
       "      <td>Belgorod</td>\n",
       "      <td>Anapa</td>\n",
       "      <td>36.590099</td>\n",
       "      <td>50.643799</td>\n",
       "      <td>37.347301</td>\n",
       "      <td>45.002102</td>\n",
       "      <td>0.833333</td>\n",
       "      <td>Sukhoi Superjet-100</td>\n",
       "      <td>66119.431667</td>\n",
       "      <td>607800.0</td>\n",
       "      <td>76</td>\n",
       "      <td>97</td>\n",
       "      <td>0.783505</td>\n",
       "      <td>541680</td>\n",
       "    </tr>\n",
       "    <tr>\n",
       "      <th>...</th>\n",
       "      <td>...</td>\n",
       "      <td>...</td>\n",
       "      <td>...</td>\n",
       "      <td>...</td>\n",
       "      <td>...</td>\n",
       "      <td>...</td>\n",
       "      <td>...</td>\n",
       "      <td>...</td>\n",
       "      <td>...</td>\n",
       "      <td>...</td>\n",
       "      <td>...</td>\n",
       "      <td>...</td>\n",
       "      <td>...</td>\n",
       "      <td>...</td>\n",
       "      <td>...</td>\n",
       "    </tr>\n",
       "    <tr>\n",
       "      <th>46</th>\n",
       "      <td>136423</td>\n",
       "      <td>Moscow</td>\n",
       "      <td>Anapa</td>\n",
       "      <td>37.414600</td>\n",
       "      <td>55.972599</td>\n",
       "      <td>37.347301</td>\n",
       "      <td>45.002102</td>\n",
       "      <td>1.666667</td>\n",
       "      <td>Boeing 737-300</td>\n",
       "      <td>195573.200000</td>\n",
       "      <td>1849400.0</td>\n",
       "      <td>129</td>\n",
       "      <td>130</td>\n",
       "      <td>0.992308</td>\n",
       "      <td>1653826</td>\n",
       "    </tr>\n",
       "    <tr>\n",
       "      <th>42</th>\n",
       "      <td>136389</td>\n",
       "      <td>Moscow</td>\n",
       "      <td>Anapa</td>\n",
       "      <td>37.414600</td>\n",
       "      <td>55.972599</td>\n",
       "      <td>37.347301</td>\n",
       "      <td>45.002102</td>\n",
       "      <td>1.666667</td>\n",
       "      <td>Boeing 737-300</td>\n",
       "      <td>195573.200000</td>\n",
       "      <td>1873800.0</td>\n",
       "      <td>129</td>\n",
       "      <td>130</td>\n",
       "      <td>0.992308</td>\n",
       "      <td>1678226</td>\n",
       "    </tr>\n",
       "    <tr>\n",
       "      <th>43</th>\n",
       "      <td>136403</td>\n",
       "      <td>Moscow</td>\n",
       "      <td>Anapa</td>\n",
       "      <td>37.414600</td>\n",
       "      <td>55.972599</td>\n",
       "      <td>37.347301</td>\n",
       "      <td>45.002102</td>\n",
       "      <td>1.666667</td>\n",
       "      <td>Boeing 737-300</td>\n",
       "      <td>186690.160000</td>\n",
       "      <td>1873800.0</td>\n",
       "      <td>129</td>\n",
       "      <td>130</td>\n",
       "      <td>0.992308</td>\n",
       "      <td>1687109</td>\n",
       "    </tr>\n",
       "    <tr>\n",
       "      <th>19</th>\n",
       "      <td>136226</td>\n",
       "      <td>Moscow</td>\n",
       "      <td>Anapa</td>\n",
       "      <td>37.414600</td>\n",
       "      <td>55.972599</td>\n",
       "      <td>37.347301</td>\n",
       "      <td>45.002102</td>\n",
       "      <td>1.666667</td>\n",
       "      <td>Boeing 737-300</td>\n",
       "      <td>195573.200000</td>\n",
       "      <td>1886000.0</td>\n",
       "      <td>130</td>\n",
       "      <td>130</td>\n",
       "      <td>1.000000</td>\n",
       "      <td>1690426</td>\n",
       "    </tr>\n",
       "    <tr>\n",
       "      <th>32</th>\n",
       "      <td>136316</td>\n",
       "      <td>Moscow</td>\n",
       "      <td>Anapa</td>\n",
       "      <td>37.414600</td>\n",
       "      <td>55.972599</td>\n",
       "      <td>37.347301</td>\n",
       "      <td>45.002102</td>\n",
       "      <td>1.666667</td>\n",
       "      <td>Boeing 737-300</td>\n",
       "      <td>195573.200000</td>\n",
       "      <td>1886000.0</td>\n",
       "      <td>130</td>\n",
       "      <td>130</td>\n",
       "      <td>1.000000</td>\n",
       "      <td>1690426</td>\n",
       "    </tr>\n",
       "  </tbody>\n",
       "</table>\n",
       "<p>118 rows × 15 columns</p>\n",
       "</div>"
      ],
      "text/plain": [
       "     flight_id      city city.1  longitude   latitude  longitude.1  \\\n",
       "68      136642  Belgorod  Anapa  36.590099  50.643799    37.347301   \n",
       "93      136807  Belgorod  Anapa  36.590099  50.643799    37.347301   \n",
       "100     136844  Belgorod  Anapa  36.590099  50.643799    37.347301   \n",
       "107     136887  Belgorod  Anapa  36.590099  50.643799    37.347301   \n",
       "111     136922  Belgorod  Anapa  36.590099  50.643799    37.347301   \n",
       "..         ...       ...    ...        ...        ...          ...   \n",
       "46      136423    Moscow  Anapa  37.414600  55.972599    37.347301   \n",
       "42      136389    Moscow  Anapa  37.414600  55.972599    37.347301   \n",
       "43      136403    Moscow  Anapa  37.414600  55.972599    37.347301   \n",
       "19      136226    Moscow  Anapa  37.414600  55.972599    37.347301   \n",
       "32      136316    Moscow  Anapa  37.414600  55.972599    37.347301   \n",
       "\n",
       "     latitude.1  flight_duration                model      fuel_cost  \\\n",
       "68    45.002102         0.816667  Sukhoi Superjet-100   67880.198167   \n",
       "93    45.002102         0.833333  Sukhoi Superjet-100   66119.431667   \n",
       "100   45.002102         0.833333  Sukhoi Superjet-100   66119.431667   \n",
       "107   45.002102         0.816667  Sukhoi Superjet-100   67880.198167   \n",
       "111   45.002102         0.833333  Sukhoi Superjet-100   66119.431667   \n",
       "..          ...              ...                  ...            ...   \n",
       "46    45.002102         1.666667       Boeing 737-300  195573.200000   \n",
       "42    45.002102         1.666667       Boeing 737-300  195573.200000   \n",
       "43    45.002102         1.666667       Boeing 737-300  186690.160000   \n",
       "19    45.002102         1.666667       Boeing 737-300  195573.200000   \n",
       "32    45.002102         1.666667       Boeing 737-300  195573.200000   \n",
       "\n",
       "     amount_sum  amount_count  seats_count_mean  flight_occupancy   profit  \n",
       "68     531000.0            64                97          0.659794   463119  \n",
       "93     531000.0            68                97          0.701031   464880  \n",
       "100    575100.0            79                97          0.814433   508980  \n",
       "107    595200.0            78                97          0.804124   527319  \n",
       "111    607800.0            76                97          0.783505   541680  \n",
       "..          ...           ...               ...               ...      ...  \n",
       "46    1849400.0           129               130          0.992308  1653826  \n",
       "42    1873800.0           129               130          0.992308  1678226  \n",
       "43    1873800.0           129               130          0.992308  1687109  \n",
       "19    1886000.0           130               130          1.000000  1690426  \n",
       "32    1886000.0           130               130          1.000000  1690426  \n",
       "\n",
       "[118 rows x 15 columns]"
      ]
     },
     "execution_count": 592,
     "metadata": {},
     "output_type": "execute_result"
    }
   ],
   "source": [
    "data_for_analysis"
   ]
  },
  {
   "cell_type": "code",
   "execution_count": null,
   "id": "little-skill",
   "metadata": {},
   "outputs": [],
   "source": [
    "sns.histplot()"
   ]
  },
  {
   "cell_type": "code",
   "execution_count": 607,
   "id": "liberal-posting",
   "metadata": {},
   "outputs": [
    {
     "data": {
      "image/png": "[encoded data removed]",
      "text/plain": [
       "<Figure size 432x288 with 1 Axes>"
      ]
     },
     "metadata": {},
     "output_type": "display_data"
    }
   ],
   "source": [
    "sns.histplot(data=data_for_analysis, x='profit', hue='model')\n",
    "plt.ticklabel_format(useOffset=False, style='plain')\n",
    "plt.title('Распределение прибыли от продажи билетов');\n",
    "# plt.savefig('Распределение прибыли от продажи билетов.png');"
   ]
  },
  {
   "cell_type": "markdown",
   "id": "opened-basics",
   "metadata": {},
   "source": [
    "На данном графике мы отчетливо видим разрыв в распределении данных по доходу от перелетов. Однако, т.к. в этом случае мы анализируем данные от двух разных моделей самолетов, то чтобы делать какие-то выводы дальше, нам нужно проанализировать рейсы на заполняемость салона."
   ]
  },
  {
   "cell_type": "code",
   "execution_count": 639,
   "id": "significant-private",
   "metadata": {},
   "outputs": [
    {
     "data": {
      "image/png": "[encoded data removed]",
      "text/plain": [
       "<Figure size 432x288 with 1 Axes>"
      ]
     },
     "metadata": {},
     "output_type": "display_data"
    }
   ],
   "source": [
    "# data_for_analysis.flight_occupancy.value_counts(bins=7).sort_index()\n",
    "sns.histplot(data=data_for_analysis, x='flight_occupancy', hue='model', multiple=\"dodge\")\n",
    "plt.title('Распределение заполняемости салона');\n",
    "# plt.savefig('Распределение заполняемости салона.png');"
   ]
  },
  {
   "cell_type": "markdown",
   "id": "adequate-invite",
   "metadata": {},
   "source": [
    "На графике распределения заполняемости салона для малоприбыльных рейсов мы видим, что она в большинстве случаев превышает 75%. Поэтому отфильтруем полеты, заполняемость самолета в которых меньше 75%."
   ]
  },
  {
   "cell_type": "code",
   "execution_count": 702,
   "id": "empty-sweet",
   "metadata": {
    "scrolled": true
   },
   "outputs": [
    {
     "data": {
      "text/html": [
       "<div>\n",
       "<style scoped>\n",
       "    .dataframe tbody tr th:only-of-type {\n",
       "        vertical-align: middle;\n",
       "    }\n",
       "\n",
       "    .dataframe tbody tr th {\n",
       "        vertical-align: top;\n",
       "    }\n",
       "\n",
       "    .dataframe thead th {\n",
       "        text-align: right;\n",
       "    }\n",
       "</style>\n",
       "<table border=\"1\" class=\"dataframe\">\n",
       "  <thead>\n",
       "    <tr style=\"text-align: right;\">\n",
       "      <th></th>\n",
       "      <th>flight_id</th>\n",
       "      <th>city</th>\n",
       "      <th>city.1</th>\n",
       "      <th>longitude</th>\n",
       "      <th>latitude</th>\n",
       "      <th>longitude.1</th>\n",
       "      <th>latitude.1</th>\n",
       "      <th>flight_duration</th>\n",
       "      <th>model</th>\n",
       "      <th>fuel_cost</th>\n",
       "      <th>amount_sum</th>\n",
       "      <th>amount_count</th>\n",
       "      <th>seats_count_mean</th>\n",
       "      <th>flight_occupancy</th>\n",
       "      <th>profit</th>\n",
       "    </tr>\n",
       "  </thead>\n",
       "  <tbody>\n",
       "    <tr>\n",
       "      <th>68</th>\n",
       "      <td>136642</td>\n",
       "      <td>Belgorod</td>\n",
       "      <td>Anapa</td>\n",
       "      <td>36.590099</td>\n",
       "      <td>50.643799</td>\n",
       "      <td>37.347301</td>\n",
       "      <td>45.002102</td>\n",
       "      <td>0.816667</td>\n",
       "      <td>Sukhoi Superjet-100</td>\n",
       "      <td>67880.198167</td>\n",
       "      <td>531000.0</td>\n",
       "      <td>64</td>\n",
       "      <td>97</td>\n",
       "      <td>0.659794</td>\n",
       "      <td>463119</td>\n",
       "    </tr>\n",
       "    <tr>\n",
       "      <th>93</th>\n",
       "      <td>136807</td>\n",
       "      <td>Belgorod</td>\n",
       "      <td>Anapa</td>\n",
       "      <td>36.590099</td>\n",
       "      <td>50.643799</td>\n",
       "      <td>37.347301</td>\n",
       "      <td>45.002102</td>\n",
       "      <td>0.833333</td>\n",
       "      <td>Sukhoi Superjet-100</td>\n",
       "      <td>66119.431667</td>\n",
       "      <td>531000.0</td>\n",
       "      <td>68</td>\n",
       "      <td>97</td>\n",
       "      <td>0.701031</td>\n",
       "      <td>464880</td>\n",
       "    </tr>\n",
       "    <tr>\n",
       "      <th>2</th>\n",
       "      <td>136122</td>\n",
       "      <td>Moscow</td>\n",
       "      <td>Anapa</td>\n",
       "      <td>37.414600</td>\n",
       "      <td>55.972599</td>\n",
       "      <td>37.347301</td>\n",
       "      <td>45.002102</td>\n",
       "      <td>1.666667</td>\n",
       "      <td>Boeing 737-300</td>\n",
       "      <td>195573.200000</td>\n",
       "      <td>1431000.0</td>\n",
       "      <td>97</td>\n",
       "      <td>130</td>\n",
       "      <td>0.746154</td>\n",
       "      <td>1235426</td>\n",
       "    </tr>\n",
       "    <tr>\n",
       "      <th>38</th>\n",
       "      <td>136360</td>\n",
       "      <td>Moscow</td>\n",
       "      <td>Anapa</td>\n",
       "      <td>37.414600</td>\n",
       "      <td>55.972599</td>\n",
       "      <td>37.347301</td>\n",
       "      <td>45.002102</td>\n",
       "      <td>1.666667</td>\n",
       "      <td>Boeing 737-300</td>\n",
       "      <td>186690.160000</td>\n",
       "      <td>1455400.0</td>\n",
       "      <td>97</td>\n",
       "      <td>130</td>\n",
       "      <td>0.746154</td>\n",
       "      <td>1268709</td>\n",
       "    </tr>\n",
       "  </tbody>\n",
       "</table>\n",
       "</div>"
      ],
      "text/plain": [
       "    flight_id      city city.1  longitude   latitude  longitude.1  latitude.1  \\\n",
       "68     136642  Belgorod  Anapa  36.590099  50.643799    37.347301   45.002102   \n",
       "93     136807  Belgorod  Anapa  36.590099  50.643799    37.347301   45.002102   \n",
       "2      136122    Moscow  Anapa  37.414600  55.972599    37.347301   45.002102   \n",
       "38     136360    Moscow  Anapa  37.414600  55.972599    37.347301   45.002102   \n",
       "\n",
       "    flight_duration                model      fuel_cost  amount_sum  \\\n",
       "68         0.816667  Sukhoi Superjet-100   67880.198167    531000.0   \n",
       "93         0.833333  Sukhoi Superjet-100   66119.431667    531000.0   \n",
       "2          1.666667       Boeing 737-300  195573.200000   1431000.0   \n",
       "38         1.666667       Boeing 737-300  186690.160000   1455400.0   \n",
       "\n",
       "    amount_count  seats_count_mean  flight_occupancy   profit  \n",
       "68            64                97          0.659794   463119  \n",
       "93            68                97          0.701031   464880  \n",
       "2             97               130          0.746154  1235426  \n",
       "38            97               130          0.746154  1268709  "
      ]
     },
     "execution_count": 702,
     "metadata": {},
     "output_type": "execute_result"
    }
   ],
   "source": [
    "threshold_occupancy = 0.75\n",
    "low_occupancy_flights = data_for_analysis[data_for_analysis.flight_occupancy < threshold_occupancy]\n",
    "low_occupancy_flights"
   ]
  },
  {
   "cell_type": "code",
   "execution_count": 703,
   "id": "offshore-intention",
   "metadata": {},
   "outputs": [
    {
     "data": {
      "text/plain": [
       "[136642, 136807, 136122, 136360]"
      ]
     },
     "execution_count": 703,
     "metadata": {},
     "output_type": "execute_result"
    }
   ],
   "source": [
    "low_occupancy_flights.flight_id.values.tolist()"
   ]
  },
  {
   "cell_type": "markdown",
   "id": "extended-geneva",
   "metadata": {},
   "source": [
    "Найденные ID рейсов: 136642, 136807, 136122, 136360 - по предварительным результатам относятся к малоприбильным и слабозаполняемым. Чтобы подтвердить эту теорию, проанализируем зависимость прибыльности и заполненности салона для двух направлений."
   ]
  },
  {
   "cell_type": "code",
   "execution_count": 701,
   "id": "competitive-breed",
   "metadata": {},
   "outputs": [
    {
     "data": {
      "image/png": "[encoded data removed]",
      "text/plain": [
       "<Figure size 432x288 with 1 Axes>"
      ]
     },
     "metadata": {},
     "output_type": "display_data"
    }
   ],
   "source": [
    "sns.scatterplot(y='profit', x='flight_occupancy', hue='city',\n",
    "                data=data_for_analysis[data_for_analysis.flight_occupancy >= threshold_occupancy])\n",
    "sns.scatterplot(y='profit', x='flight_occupancy', hue='city', alpha=0.6,\n",
    "                data=data_for_analysis[data_for_analysis.flight_occupancy < threshold_occupancy], legend=False)\n",
    "plt.title('Зависимость прибыли от заполненности салона самолета', pad=20)\n",
    "plt.axvline(0.75, linestyle='--', alpha=0.7);\n",
    "# plt.savefig('Зависимость прибыли от заполненности салона самолета.png', dpi=1200)"
   ]
  },
  {
   "cell_type": "markdown",
   "id": "overall-yukon",
   "metadata": {},
   "source": [
    "График зависимости прибыли от заполненности салона самолета для двух направлений хорошо показывает, что рейсы в Москву по заполняемости лежат почти на установленном нами пределе 75%. Поэтому по моему прогнозу стоит отказаться от рейсов 136642, 136807 в Белгород."
   ]
  },
  {
   "cell_type": "code",
   "execution_count": 706,
   "id": "laden-democrat",
   "metadata": {},
   "outputs": [
    {
     "data": {
      "text/html": [
       "<div>\n",
       "<style scoped>\n",
       "    .dataframe tbody tr th:only-of-type {\n",
       "        vertical-align: middle;\n",
       "    }\n",
       "\n",
       "    .dataframe tbody tr th {\n",
       "        vertical-align: top;\n",
       "    }\n",
       "\n",
       "    .dataframe thead th {\n",
       "        text-align: right;\n",
       "    }\n",
       "</style>\n",
       "<table border=\"1\" class=\"dataframe\">\n",
       "  <thead>\n",
       "    <tr style=\"text-align: right;\">\n",
       "      <th></th>\n",
       "      <th>flight_id</th>\n",
       "      <th>city</th>\n",
       "      <th>city.1</th>\n",
       "      <th>longitude</th>\n",
       "      <th>latitude</th>\n",
       "      <th>longitude.1</th>\n",
       "      <th>latitude.1</th>\n",
       "      <th>flight_duration</th>\n",
       "      <th>model</th>\n",
       "      <th>fuel_cost</th>\n",
       "      <th>amount_sum</th>\n",
       "      <th>amount_count</th>\n",
       "      <th>seats_count_mean</th>\n",
       "      <th>flight_occupancy</th>\n",
       "      <th>profit</th>\n",
       "    </tr>\n",
       "  </thead>\n",
       "  <tbody>\n",
       "    <tr>\n",
       "      <th>68</th>\n",
       "      <td>136642</td>\n",
       "      <td>Belgorod</td>\n",
       "      <td>Anapa</td>\n",
       "      <td>36.590099</td>\n",
       "      <td>50.643799</td>\n",
       "      <td>37.347301</td>\n",
       "      <td>45.002102</td>\n",
       "      <td>0.816667</td>\n",
       "      <td>Sukhoi Superjet-100</td>\n",
       "      <td>67880.198167</td>\n",
       "      <td>531000.0</td>\n",
       "      <td>64</td>\n",
       "      <td>97</td>\n",
       "      <td>0.659794</td>\n",
       "      <td>463119</td>\n",
       "    </tr>\n",
       "    <tr>\n",
       "      <th>93</th>\n",
       "      <td>136807</td>\n",
       "      <td>Belgorod</td>\n",
       "      <td>Anapa</td>\n",
       "      <td>36.590099</td>\n",
       "      <td>50.643799</td>\n",
       "      <td>37.347301</td>\n",
       "      <td>45.002102</td>\n",
       "      <td>0.833333</td>\n",
       "      <td>Sukhoi Superjet-100</td>\n",
       "      <td>66119.431667</td>\n",
       "      <td>531000.0</td>\n",
       "      <td>68</td>\n",
       "      <td>97</td>\n",
       "      <td>0.701031</td>\n",
       "      <td>464880</td>\n",
       "    </tr>\n",
       "  </tbody>\n",
       "</table>\n",
       "</div>"
      ],
      "text/plain": [
       "    flight_id      city city.1  longitude   latitude  longitude.1  latitude.1  \\\n",
       "68     136642  Belgorod  Anapa  36.590099  50.643799    37.347301   45.002102   \n",
       "93     136807  Belgorod  Anapa  36.590099  50.643799    37.347301   45.002102   \n",
       "\n",
       "    flight_duration                model     fuel_cost  amount_sum  \\\n",
       "68         0.816667  Sukhoi Superjet-100  67880.198167    531000.0   \n",
       "93         0.833333  Sukhoi Superjet-100  66119.431667    531000.0   \n",
       "\n",
       "    amount_count  seats_count_mean  flight_occupancy  profit  \n",
       "68            64                97          0.659794  463119  \n",
       "93            68                97          0.701031  464880  "
      ]
     },
     "execution_count": 706,
     "metadata": {},
     "output_type": "execute_result"
    }
   ],
   "source": [
    "low_occupancy_flights[low_occupancy_flights.flight_id.isin([136642, 136807])]"
   ]
  }
 ],
 "metadata": {
  "kernelspec": {
   "display_name": "Python 3",
   "language": "python",
   "name": "python3"
  },
  "language_info": {
   "codemirror_mode": {
    "name": "ipython",
    "version": 3
   },
   "file_extension": ".py",
   "mimetype": "text/x-python",
   "name": "python",
   "nbconvert_exporter": "python",
   "pygments_lexer": "ipython3",
   "version": "3.8.0"
  }
 },
 "nbformat": 4,
 "nbformat_minor": 5
}
